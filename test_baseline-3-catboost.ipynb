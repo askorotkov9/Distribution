{
 "cells": [
  {
   "cell_type": "code",
   "execution_count": 1,
   "id": "initial_id",
   "metadata": {
    "ExecuteTime": {
     "end_time": "2025-02-08T12:03:10.007903Z",
     "start_time": "2025-02-08T12:03:08.375866Z"
    }
   },
   "outputs": [],
   "source": [
    "import pandas as pd\n",
    "import matplotlib.pyplot as plt\n",
    "import numpy as np\n",
    "import dask.dataframe as dd\n",
    "from catboost import Pool, CatBoostRegressor"
   ]
  },
  {
   "cell_type": "markdown",
   "id": "698ef0c6-d381-40b3-93f8-74b6904ba9a4",
   "metadata": {},
   "source": [
    "### Можно ли решить задачу с наскока?\n",
    "\n",
    "Сперва стоит подгрузить данные и посмотреть на то, с чем нам придётся работать.\n",
    "\n",
    "В этои соревновании участникам предоставляются 4 набора из пар файлов (train и test):\n",
    "1. train_main.parquet (279 признаков + ключ)\n",
    "2. train_card_spending.parquet (630 признаков + ключ)\n",
    "3. train_mcc_operations.parquet (1640 признаков + ключ)\n",
    "4. train_mcc_preferences.parquet (2112 признаков + ключ)\n",
    "\n",
    "Для простоты, попробуем использовать первый набор (*_main.parquet*).\n",
    "\n",
    "#### Данные с признаками (1 из 4):\n"
   ]
  },
  {
   "cell_type": "code",
   "execution_count": 3,
   "id": "44cafd85-2c29-4d73-b7ac-09b6fa32907f",
   "metadata": {},
   "outputs": [],
   "source": [
    "train = pd.read_parquet('train_main.parquet')\n",
    "test = pd.read_parquet('test_main.parquet')"
   ]
  },
  {
   "cell_type": "code",
   "execution_count": 4,
   "id": "e12cd977-b91b-42e1-a448-cf04d1d209e6",
   "metadata": {},
   "outputs": [
    {
     "name": "stdout",
     "output_type": "stream",
     "text": [
      "Данные для обучения: (213345, 280)\n",
      "Тестовые данные: (318451, 280)\n"
     ]
    }
   ],
   "source": [
    "print('Данные для обучения:', train.shape)\n",
    "print('Тестовые данные:', test.shape)"
   ]
  },
  {
   "cell_type": "code",
   "execution_count": 5,
   "id": "7315a29f-f3ef-424b-8543-ee571f124d64",
   "metadata": {},
   "outputs": [
    {
     "data": {
      "text/html": [
       "<div>\n",
       "<style scoped>\n",
       "    .dataframe tbody tr th:only-of-type {\n",
       "        vertical-align: middle;\n",
       "    }\n",
       "\n",
       "    .dataframe tbody tr th {\n",
       "        vertical-align: top;\n",
       "    }\n",
       "\n",
       "    .dataframe thead th {\n",
       "        text-align: right;\n",
       "    }\n",
       "</style>\n",
       "<table border=\"1\" class=\"dataframe\">\n",
       "  <thead>\n",
       "    <tr style=\"text-align: right;\">\n",
       "      <th></th>\n",
       "      <th>user_id</th>\n",
       "      <th>app_children_cnt</th>\n",
       "      <th>app_dependent_cnt</th>\n",
       "      <th>app_family_cnt</th>\n",
       "      <th>app_income_app</th>\n",
       "      <th>app_real_estate_ind</th>\n",
       "      <th>app_vehicle_ind</th>\n",
       "      <th>avg_dep_avg_balance_12month_amt</th>\n",
       "      <th>avg_dep_avg_balance_12month_amt_term</th>\n",
       "      <th>avg_dep_avg_balance_12month_amt_term_savings</th>\n",
       "      <th>...</th>\n",
       "      <th>savings_sum_oms_debet_3m</th>\n",
       "      <th>savings_sum_oms_debet_6m</th>\n",
       "      <th>savings_sum_oms_debet_9m</th>\n",
       "      <th>savings_sum_oms_debet_12m</th>\n",
       "      <th>savings_service_model_cd</th>\n",
       "      <th>savings_pension_flg</th>\n",
       "      <th>savings_deposit_flg</th>\n",
       "      <th>savings_safe_acc_flg</th>\n",
       "      <th>savings_broker_flg</th>\n",
       "      <th>savings_oms_flg</th>\n",
       "    </tr>\n",
       "  </thead>\n",
       "  <tbody>\n",
       "    <tr>\n",
       "      <th>0</th>\n",
       "      <td>9</td>\n",
       "      <td>NaN</td>\n",
       "      <td>NaN</td>\n",
       "      <td>NaN</td>\n",
       "      <td>NaN</td>\n",
       "      <td>NaN</td>\n",
       "      <td>NaN</td>\n",
       "      <td>NaN</td>\n",
       "      <td>NaN</td>\n",
       "      <td>4027.373535</td>\n",
       "      <td>...</td>\n",
       "      <td>34.613216</td>\n",
       "      <td>0.000000</td>\n",
       "      <td>4.310414</td>\n",
       "      <td>75.214180</td>\n",
       "      <td>Массовый</td>\n",
       "      <td>0</td>\n",
       "      <td>0</td>\n",
       "      <td>1</td>\n",
       "      <td>0</td>\n",
       "      <td>0</td>\n",
       "    </tr>\n",
       "    <tr>\n",
       "      <th>1</th>\n",
       "      <td>11</td>\n",
       "      <td>NaN</td>\n",
       "      <td>NaN</td>\n",
       "      <td>NaN</td>\n",
       "      <td>NaN</td>\n",
       "      <td>NaN</td>\n",
       "      <td>NaN</td>\n",
       "      <td>NaN</td>\n",
       "      <td>NaN</td>\n",
       "      <td>NaN</td>\n",
       "      <td>...</td>\n",
       "      <td>6.237672</td>\n",
       "      <td>0.000000</td>\n",
       "      <td>0.000000</td>\n",
       "      <td>0.000000</td>\n",
       "      <td>Массовый</td>\n",
       "      <td>0</td>\n",
       "      <td>0</td>\n",
       "      <td>1</td>\n",
       "      <td>0</td>\n",
       "      <td>0</td>\n",
       "    </tr>\n",
       "    <tr>\n",
       "      <th>2</th>\n",
       "      <td>12</td>\n",
       "      <td>0.0</td>\n",
       "      <td>0.0</td>\n",
       "      <td>0.0</td>\n",
       "      <td>105372.960938</td>\n",
       "      <td>0.0</td>\n",
       "      <td>0.0</td>\n",
       "      <td>315208.781250</td>\n",
       "      <td>NaN</td>\n",
       "      <td>274816.375000</td>\n",
       "      <td>...</td>\n",
       "      <td>0.000000</td>\n",
       "      <td>53.134129</td>\n",
       "      <td>90.025238</td>\n",
       "      <td>0.000000</td>\n",
       "      <td>Массовый</td>\n",
       "      <td>0</td>\n",
       "      <td>0</td>\n",
       "      <td>1</td>\n",
       "      <td>0</td>\n",
       "      <td>0</td>\n",
       "    </tr>\n",
       "    <tr>\n",
       "      <th>3</th>\n",
       "      <td>13</td>\n",
       "      <td>1.0</td>\n",
       "      <td>0.0</td>\n",
       "      <td>3.0</td>\n",
       "      <td>0.000000</td>\n",
       "      <td>0.0</td>\n",
       "      <td>0.0</td>\n",
       "      <td>43187.953125</td>\n",
       "      <td>NaN</td>\n",
       "      <td>5277.233887</td>\n",
       "      <td>...</td>\n",
       "      <td>0.000000</td>\n",
       "      <td>22.276114</td>\n",
       "      <td>82.070015</td>\n",
       "      <td>117.386795</td>\n",
       "      <td>Массовый</td>\n",
       "      <td>0</td>\n",
       "      <td>0</td>\n",
       "      <td>1</td>\n",
       "      <td>0</td>\n",
       "      <td>0</td>\n",
       "    </tr>\n",
       "    <tr>\n",
       "      <th>4</th>\n",
       "      <td>15</td>\n",
       "      <td>NaN</td>\n",
       "      <td>NaN</td>\n",
       "      <td>NaN</td>\n",
       "      <td>NaN</td>\n",
       "      <td>0.0</td>\n",
       "      <td>0.0</td>\n",
       "      <td>NaN</td>\n",
       "      <td>NaN</td>\n",
       "      <td>0.000000</td>\n",
       "      <td>...</td>\n",
       "      <td>0.000000</td>\n",
       "      <td>0.000000</td>\n",
       "      <td>0.000000</td>\n",
       "      <td>33.072178</td>\n",
       "      <td>Массовый</td>\n",
       "      <td>0</td>\n",
       "      <td>0</td>\n",
       "      <td>1</td>\n",
       "      <td>0</td>\n",
       "      <td>0</td>\n",
       "    </tr>\n",
       "  </tbody>\n",
       "</table>\n",
       "<p>5 rows × 280 columns</p>\n",
       "</div>"
      ],
      "text/plain": [
       "   user_id  app_children_cnt  app_dependent_cnt  app_family_cnt  \\\n",
       "0        9               NaN                NaN             NaN   \n",
       "1       11               NaN                NaN             NaN   \n",
       "2       12               0.0                0.0             0.0   \n",
       "3       13               1.0                0.0             3.0   \n",
       "4       15               NaN                NaN             NaN   \n",
       "\n",
       "   app_income_app  app_real_estate_ind  app_vehicle_ind  \\\n",
       "0             NaN                  NaN              NaN   \n",
       "1             NaN                  NaN              NaN   \n",
       "2   105372.960938                  0.0              0.0   \n",
       "3        0.000000                  0.0              0.0   \n",
       "4             NaN                  0.0              0.0   \n",
       "\n",
       "   avg_dep_avg_balance_12month_amt  avg_dep_avg_balance_12month_amt_term  \\\n",
       "0                              NaN                                   NaN   \n",
       "1                              NaN                                   NaN   \n",
       "2                    315208.781250                                   NaN   \n",
       "3                     43187.953125                                   NaN   \n",
       "4                              NaN                                   NaN   \n",
       "\n",
       "   avg_dep_avg_balance_12month_amt_term_savings  ...  \\\n",
       "0                                   4027.373535  ...   \n",
       "1                                           NaN  ...   \n",
       "2                                 274816.375000  ...   \n",
       "3                                   5277.233887  ...   \n",
       "4                                      0.000000  ...   \n",
       "\n",
       "   savings_sum_oms_debet_3m  savings_sum_oms_debet_6m  \\\n",
       "0                 34.613216                  0.000000   \n",
       "1                  6.237672                  0.000000   \n",
       "2                  0.000000                 53.134129   \n",
       "3                  0.000000                 22.276114   \n",
       "4                  0.000000                  0.000000   \n",
       "\n",
       "   savings_sum_oms_debet_9m  savings_sum_oms_debet_12m  \\\n",
       "0                  4.310414                  75.214180   \n",
       "1                  0.000000                   0.000000   \n",
       "2                 90.025238                   0.000000   \n",
       "3                 82.070015                 117.386795   \n",
       "4                  0.000000                  33.072178   \n",
       "\n",
       "   savings_service_model_cd  savings_pension_flg  savings_deposit_flg  \\\n",
       "0                  Массовый                    0                    0   \n",
       "1                  Массовый                    0                    0   \n",
       "2                  Массовый                    0                    0   \n",
       "3                  Массовый                    0                    0   \n",
       "4                  Массовый                    0                    0   \n",
       "\n",
       "   savings_safe_acc_flg  savings_broker_flg  savings_oms_flg  \n",
       "0                     1                   0                0  \n",
       "1                     1                   0                0  \n",
       "2                     1                   0                0  \n",
       "3                     1                   0                0  \n",
       "4                     1                   0                0  \n",
       "\n",
       "[5 rows x 280 columns]"
      ]
     },
     "execution_count": 5,
     "metadata": {},
     "output_type": "execute_result"
    }
   ],
   "source": [
    "train.head(n = 5)"
   ]
  },
  {
   "cell_type": "markdown",
   "id": "607e32ae-f33c-45f4-ae18-93338a822986",
   "metadata": {},
   "source": [
    "#### Особенности данных\n",
    "\n",
    "Сразу видно очень много пропусков. \n",
    "\n",
    "Наверное с пропусками даже придётся что-то делать, ведь где-то их 50% или больше."
   ]
  },
  {
   "cell_type": "code",
   "execution_count": 6,
   "id": "f0e01e42-4e99-4ab1-86e4-dabe2cd3730b",
   "metadata": {},
   "outputs": [
    {
     "name": "stdout",
     "output_type": "stream",
     "text": [
      "\n",
      "Columns with missing values:\n",
      " vehicle_counrty_type_nm    206739\n",
      "max_amt_foreign_cur_5y     201136\n",
      "max_amt_dep_6m             182526\n",
      "min_amt_term_g1y           180330\n",
      "max_amt_dep_act            175074\n",
      "                            ...  \n",
      "cnt_grow_5y                    26\n",
      "cnt_dep_closed_5y              26\n",
      "cnt_early_withdraw_5y          26\n",
      "cnt_dep_6m                     26\n",
      "cnt_dep_5y                     26\n",
      "Length: 167, dtype: int64\n"
     ]
    }
   ],
   "source": [
    "missing_values = train.isnull().sum().sort_values(ascending = False)\n",
    "missing_values = missing_values[missing_values > 0]\n",
    "print('\\nColumns with missing values:\\n', missing_values)"
   ]
  },
  {
   "cell_type": "markdown",
   "id": "19e0c8d0-60a1-47fe-93a6-a9d810471ead",
   "metadata": {},
   "source": [
    "Интересно, а в тестовых данных же всё точно так же? \n",
    "\n",
    "Наверное, нужно будет это проверить 🤔️️️️️️\n",
    "\n",
    "Для некоторых алгоритмов будет неловко, если появятся новые признаки с пропусками, которых не было в обучающих данных  👀️️️️️️"
   ]
  },
  {
   "cell_type": "code",
   "execution_count": 7,
   "id": "4e044863",
   "metadata": {},
   "outputs": [
    {
     "name": "stdout",
     "output_type": "stream",
     "text": [
      "\n",
      "Columns with missing values:\n",
      " vehicle_counrty_type_nm    309569\n",
      "max_amt_foreign_cur_5y     303573\n",
      "min_amt_term_g1y           276685\n",
      "max_amt_dep_6m             255802\n",
      "max_amt_dep_act            250547\n",
      "                            ...  \n",
      "cnt_foreign_cur_5y             97\n",
      "cnt_dep_closed_5y              97\n",
      "cnt_dep_6m                     97\n",
      "cnt_dep_5y                     97\n",
      "customer_age                    1\n",
      "Length: 168, dtype: int64\n"
     ]
    }
   ],
   "source": [
    "#проверка для тестовых данных\n",
    "missing_values_test = test.isnull().sum().sort_values(ascending = False)\n",
    "missing_values_test = missing_values_test[missing_values_test > 0]\n",
    "print('\\nColumns with missing values:\\n', missing_values_test)"
   ]
  },
  {
   "cell_type": "markdown",
   "id": "31e49b25-225b-4d5f-997d-923e81a7f3a3",
   "metadata": {},
   "source": [
    "#### Типы  данных\n",
    "\n",
    "Стоит верхнеуровнево посмотреть что находится внутри. Особенно интересуют категориальные признаки."
   ]
  },
  {
   "cell_type": "code",
   "execution_count": 2,
   "id": "2975998a-e869-445d-ab7d-140eb7dd6c4d",
   "metadata": {},
   "outputs": [
    {
     "ename": "NameError",
     "evalue": "name 'train' is not defined",
     "output_type": "error",
     "traceback": [
      "\u001b[1;31m---------------------------------------------------------------------------\u001b[0m",
      "\u001b[1;31mNameError\u001b[0m                                 Traceback (most recent call last)",
      "Cell \u001b[1;32mIn[2], line 1\u001b[0m\n\u001b[1;32m----> 1\u001b[0m \u001b[43mtrain\u001b[49m\u001b[38;5;241m.\u001b[39mdtypes\u001b[38;5;241m.\u001b[39mvalue_counts()\n",
      "\u001b[1;31mNameError\u001b[0m: name 'train' is not defined"
     ]
    }
   ],
   "source": [
    "train.dtypes.value_counts()"
   ]
  },
  {
   "cell_type": "markdown",
   "id": "1605bdb7-a901-406a-b936-39a901be144b",
   "metadata": {},
   "source": [
    "Категориальные признаки стоит отдельно выделить и сохранить для Catboost."
   ]
  },
  {
   "cell_type": "code",
   "execution_count": 9,
   "id": "74f07ad6-0ef9-4368-9ad2-266ad9a0ac42",
   "metadata": {},
   "outputs": [
    {
     "name": "stdout",
     "output_type": "stream",
     "text": [
      "[ 33  47  57  63  64  93 122 274]\n"
     ]
    }
   ],
   "source": [
    "features = train.columns\n",
    "\n",
    "categorical_features = train[features].select_dtypes(include=['object']).columns\n",
    "\n",
    "for feature in categorical_features:\n",
    "    train[feature] = train[feature].astype(str)\n",
    "\n",
    "categorical_features_indices = np.where(train.dtypes == 'object')[0]\n",
    "print(categorical_features_indices)"
   ]
  },
  {
   "cell_type": "markdown",
   "id": "d9a7e087-20a0-45e3-a94a-a1e2bc7be6d1",
   "metadata": {},
   "source": [
    "Для первого подхода к снаряду, этого хватит. Не хватает только целевой переменной.\n",
    "\n",
    "### Целевая переменная\n",
    "\n"
   ]
  },
  {
   "cell_type": "code",
   "execution_count": 2,
   "id": "25261de2-03f1-41d6-8830-a50bdc0dd061",
   "metadata": {},
   "outputs": [
    {
     "data": {
      "text/plain": [
       "(213345, 2)"
      ]
     },
     "execution_count": 2,
     "metadata": {},
     "output_type": "execute_result"
    }
   ],
   "source": [
    "target = pd.read_csv('train_target.csv')\n",
    "target.shape"
   ]
  },
  {
   "cell_type": "code",
   "execution_count": 3,
   "id": "beea57de-e043-44ce-b01e-ebd201017b84",
   "metadata": {},
   "outputs": [
    {
     "data": {
      "text/html": [
       "<div>\n",
       "<style scoped>\n",
       "    .dataframe tbody tr th:only-of-type {\n",
       "        vertical-align: middle;\n",
       "    }\n",
       "\n",
       "    .dataframe tbody tr th {\n",
       "        vertical-align: top;\n",
       "    }\n",
       "\n",
       "    .dataframe thead th {\n",
       "        text-align: right;\n",
       "    }\n",
       "</style>\n",
       "<table border=\"1\" class=\"dataframe\">\n",
       "  <thead>\n",
       "    <tr style=\"text-align: right;\">\n",
       "      <th></th>\n",
       "      <th>user_id</th>\n",
       "      <th>target</th>\n",
       "    </tr>\n",
       "  </thead>\n",
       "  <tbody>\n",
       "    <tr>\n",
       "      <th>0</th>\n",
       "      <td>9</td>\n",
       "      <td>0.00000</td>\n",
       "    </tr>\n",
       "    <tr>\n",
       "      <th>1</th>\n",
       "      <td>11</td>\n",
       "      <td>0.00000</td>\n",
       "    </tr>\n",
       "    <tr>\n",
       "      <th>2</th>\n",
       "      <td>12</td>\n",
       "      <td>219932.90625</td>\n",
       "    </tr>\n",
       "    <tr>\n",
       "      <th>3</th>\n",
       "      <td>13</td>\n",
       "      <td>631.77002</td>\n",
       "    </tr>\n",
       "    <tr>\n",
       "      <th>4</th>\n",
       "      <td>15</td>\n",
       "      <td>0.00000</td>\n",
       "    </tr>\n",
       "  </tbody>\n",
       "</table>\n",
       "</div>"
      ],
      "text/plain": [
       "   user_id        target\n",
       "0        9       0.00000\n",
       "1       11       0.00000\n",
       "2       12  219932.90625\n",
       "3       13     631.77002\n",
       "4       15       0.00000"
      ]
     },
     "execution_count": 3,
     "metadata": {},
     "output_type": "execute_result"
    }
   ],
   "source": [
    "target.head(5)"
   ]
  },
  {
   "cell_type": "markdown",
   "id": "9e823601-0db6-485a-9f39-bb31f9ab6bb7",
   "metadata": {},
   "source": [
    "Мы решаем задачу регрессии. Из описания соревнования, нам требуется предсказать:\n",
    "\n",
    "> 50 перцентиль распределения суммарных остатков на всех накопительных счетах клиента на горизонте +2 мес. от отчетной даты\n",
    "\n"
   ]
  },
  {
   "cell_type": "code",
   "execution_count": 4,
   "id": "bf91b2ba-0307-4b19-8420-f2beae248e53",
   "metadata": {},
   "outputs": [
    {
     "data": {
      "text/plain": [
       "count    2.133450e+05\n",
       "mean     2.210490e+05\n",
       "std      9.894988e+05\n",
       "min     -7.100000e-01\n",
       "25%      0.000000e+00\n",
       "50%      3.174000e+01\n",
       "75%      1.000027e+05\n",
       "max      1.015605e+08\n",
       "Name: target, dtype: float64"
      ]
     },
     "execution_count": 4,
     "metadata": {},
     "output_type": "execute_result"
    }
   ],
   "source": [
    "target['target'].describe()"
   ]
  },
  {
   "cell_type": "markdown",
   "id": "99e823e8-0f67-40df-b932-c5c4b603f6e0",
   "metadata": {},
   "source": [
    "Целевая переменная точно требует ее преобразовать. Посмотрим как она выглядит после log1p:"
   ]
  },
  {
   "cell_type": "code",
   "execution_count": 5,
   "id": "f3ae0ce4-1295-4903-af59-b86ba61ff3ec",
   "metadata": {},
   "outputs": [
    {
     "data": {
      "image/png": "[encoded data removed]",
      "text/plain": [
       "<Figure size 1000x400 with 1 Axes>"
      ]
     },
     "metadata": {},
     "output_type": "display_data"
    }
   ],
   "source": [
    "plt.figure(figsize=(10,4))\n",
    "\n",
    "plt.hist(np.log1p(target['target']), bins = 200);"
   ]
  },
  {
   "cell_type": "markdown",
   "id": "a0b88862-bd0a-4493-9342-38f20407bf78",
   "metadata": {},
   "source": [
    "В распределении очень много нулей, так что стоит смотреть чуть уже:"
   ]
  },
  {
   "cell_type": "code",
   "execution_count": 6,
   "id": "a7da6bae-7c27-4cc3-ba62-82d3a606a15f",
   "metadata": {},
   "outputs": [
    {
     "data": {
      "image/png": "[encoded data removed]",
      "text/plain": [
       "<Figure size 1000x400 with 1 Axes>"
      ]
     },
     "metadata": {},
     "output_type": "display_data"
    }
   ],
   "source": [
    "plt.figure(figsize=(10,4))\n",
    "\n",
    "plt.hist(np.log1p(target.loc[target['target'] > 0, 'target']), bins = 200);"
   ]
  },
  {
   "cell_type": "markdown",
   "id": "38caffeb-d66a-4393-bfdc-9ece2ec720ac",
   "metadata": {},
   "source": [
    "Распределение выглядит очень похожим на смесь:\n",
    "- Есть клиенты с значениями около нуля\n",
    "- Есть компонента смеси с центром в районе 6, то есть ~400 (np.exp(6) - 1)\n",
    "- Есть компонента справа, с центров в районе 13, то есть ~440,000\n",
    "- И есть еще клиенты с ровно 0, которых мы убрали с графика\n",
    "\n",
    "Выглядит заманчиво и для ML, и визуализации. Но нас пока интересует только сабмит.\n",
    "\n",
    "### Catboost\n",
    "\n",
    "Начнём собирать всё что нам потребуется дя обучения Catboost-а.\n",
    "\n",
    "- Будем ли мы проверять, что порядок `user_id` полностью совпадает в train и target?\n",
    "- Будем ли мы сразу настраивать свою валидацию и делить данные?\n",
    "- Или может быть будем что-либо преобразовывать?\n",
    "\n",
    "Нет, нас интересует catboost сабмит ASAP 🤗️️️️️️ "
   ]
  },
  {
   "cell_type": "code",
   "execution_count": 7,
   "id": "578ea75e",
   "metadata": {},
   "outputs": [
    {
     "data": {
      "text/plain": [
       "(213345, 280)"
      ]
     },
     "execution_count": 7,
     "metadata": {},
     "output_type": "execute_result"
    }
   ],
   "source": [
    "train_main = pd.read_parquet('train_main.parquet')\n",
    "train_main.shape"
   ]
  },
  {
   "cell_type": "code",
   "execution_count": 8,
   "id": "255dca6c",
   "metadata": {},
   "outputs": [
    {
     "data": {
      "text/plain": [
       "(213345, 631)"
      ]
     },
     "execution_count": 8,
     "metadata": {},
     "output_type": "execute_result"
    }
   ],
   "source": [
    "#данные из других файлов\n",
    "train_card = pd.read_parquet('train_card_spending.parquet') #, engine = 'pyarrow', chunksize = '64MB'\n",
    "train_card.shape"
   ]
  },
  {
   "cell_type": "code",
   "execution_count": 9,
   "id": "bcdc9d71",
   "metadata": {},
   "outputs": [
    {
     "data": {
      "text/plain": [
       "(213345, 1641)"
      ]
     },
     "execution_count": 9,
     "metadata": {},
     "output_type": "execute_result"
    }
   ],
   "source": [
    "train_mcc_operations = pd.read_parquet('train_mcc_operations.parquet') #, engine = 'pyarrow', chunksize = '64MB'\n",
    "train_mcc_operations.shape"
   ]
  },
  {
   "cell_type": "code",
   "execution_count": 10,
   "id": "60cb61a0",
   "metadata": {},
   "outputs": [
    {
     "data": {
      "text/plain": [
       "(213345, 2113)"
      ]
     },
     "execution_count": 10,
     "metadata": {},
     "output_type": "execute_result"
    }
   ],
   "source": [
    "train_mcc_preferences = pd.read_parquet('train_mcc_preferences.parquet') #, engine = 'pyarrow', chunksize = '64MB'\n",
    "train_mcc_preferences.shape"
   ]
  },
  {
   "cell_type": "markdown",
   "id": "6ae0ce6f",
   "metadata": {},
   "source": [
    "Удаляем колонки с пропусками > 90% "
   ]
  },
  {
   "cell_type": "code",
   "execution_count": 11,
   "id": "1f9f5aa0",
   "metadata": {},
   "outputs": [
    {
     "name": "stdout",
     "output_type": "stream",
     "text": [
      "\n",
      "Columns with missing values:\n",
      " vehicle_counrty_type_nm    206739\n",
      "max_amt_foreign_cur_5y     201136\n",
      "max_amt_dep_6m             182526\n",
      "min_amt_term_g1y           180330\n",
      "max_amt_dep_act            175074\n",
      "                            ...  \n",
      "cnt_foreign_cur_5y             26\n",
      "cnt_save_5y                    26\n",
      "cnt_grow_5y                    26\n",
      "cnt_term_g1y                   26\n",
      "cnt_manage_5y                  26\n",
      "Length: 167, dtype: int64\n"
     ]
    }
   ],
   "source": [
    "missing_values_train_main = train_main.isnull().sum().sort_values(ascending = False)\n",
    "missing_values_train_main = missing_values_train_main[missing_values_train_main > 0]\n",
    "print('\\nColumns with missing values:\\n', missing_values_train_main)"
   ]
  },
  {
   "cell_type": "code",
   "execution_count": 12,
   "id": "a4477ffd",
   "metadata": {},
   "outputs": [
    {
     "name": "stdout",
     "output_type": "stream",
     "text": [
      "['vehicle_counrty_type_nm', 'max_amt_foreign_cur_5y']\n"
     ]
    },
    {
     "name": "stderr",
     "output_type": "stream",
     "text": [
      "C:\\Users\\Aleksandr\\AppData\\Local\\Temp\\ipykernel_11756\\1940871018.py:3: FutureWarning: Series.__getitem__ treating keys as positions is deprecated. In a future version, integer keys will always be treated as labels (consistent with DataFrame behavior). To access a value by position, use `ser.iloc[pos]`\n",
      "  empty_col_train_main = missing_values_train_main[missing_values_train_main > missing_values_train_main[0]*0.9]\n"
     ]
    },
    {
     "data": {
      "text/plain": [
       "(213345, 278)"
      ]
     },
     "execution_count": 12,
     "metadata": {},
     "output_type": "execute_result"
    }
   ],
   "source": [
    "drop_col = []\n",
    "\n",
    "empty_col_train_main = missing_values_train_main[missing_values_train_main > missing_values_train_main[0]*0.9]\n",
    "train_main = train_main.drop(columns = list(empty_col_train_main.index))\n",
    "drop_col += empty_col_train_main.index.tolist()\n",
    "print(drop_col)\n",
    "train_main.shape"
   ]
  },
  {
   "cell_type": "code",
   "execution_count": 13,
   "id": "9d087f32",
   "metadata": {},
   "outputs": [
    {
     "name": "stdout",
     "output_type": "stream",
     "text": [
      "\n",
      "Columns with missing values:\n",
      " sum_tr_house_rental_6          213345\n",
      "sum_tr_house_rental_3          213345\n",
      "sum_tr_house_rental_12         213345\n",
      "sum_tr_house_rental_1          213345\n",
      "sum_tr_financial_services_1    213330\n",
      "                                ...  \n",
      "cc_sum_trns_3m                  26877\n",
      "cc_sum_trns_12m                 26877\n",
      "cc_cnt_trns_12m                 26877\n",
      "cc_avg_trns_1m                  26877\n",
      "cc_avg_trns_12m                 26877\n",
      "Length: 630, dtype: int64\n"
     ]
    }
   ],
   "source": [
    "missing_values_train_card = train_card.isnull().sum().sort_values(ascending = False)\n",
    "missing_values_train_card = missing_values_train_card[missing_values_train_card > 0]\n",
    "print('\\nColumns with missing values:\\n', missing_values_train_card)"
   ]
  },
  {
   "cell_type": "code",
   "execution_count": 14,
   "id": "eaf0e6b8",
   "metadata": {},
   "outputs": [
    {
     "name": "stderr",
     "output_type": "stream",
     "text": [
      "C:\\Users\\Aleksandr\\AppData\\Local\\Temp\\ipykernel_11756\\715237877.py:1: FutureWarning: Series.__getitem__ treating keys as positions is deprecated. In a future version, integer keys will always be treated as labels (consistent with DataFrame behavior). To access a value by position, use `ser.iloc[pos]`\n",
      "  empty_col_train_card = missing_values_train_card[missing_values_train_card > missing_values_train_card[0]*0.9]\n"
     ]
    },
    {
     "name": "stdout",
     "output_type": "stream",
     "text": [
      "['vehicle_counrty_type_nm', 'max_amt_foreign_cur_5y', 'sum_tr_house_rental_6', 'sum_tr_house_rental_3', 'sum_tr_house_rental_12', 'sum_tr_house_rental_1', 'sum_tr_financial_services_1', 'sum_tr_financial_services_3', 'sum_tr_foreign_1', 'sum_tr_financial_services_6', 'sum_tr_financial_services_12', 'sum_tr_foreign_3', 'sum_tr_foreign_6', 'sum_tr_foreign_12', 'sum_tr_gambling_1', 'sum_tr_lottery_1m', 'sum_tr_computer_program_retail_1', 'sum_tr_duty_free_1', 'sum_tr_restaurants_delivery_1', 'sum_tr_gambling_3', 'sum_tr_lottery_3m', 'sum_tr_computer_program_retail_3', 'sum_tr_gambling_6', 'sum_tr_games_store_1', 'sum_tr_auto_rental_1', 'sum_tr_membership_clubs_1', 'sum_tr_lottery_6m', 'sum_tr_jewelry_retail_1', 'sum_tr_insurance_1', 'sum_tr_duty_free_3', 'sum_tr_cleaning_services_1', 'sum_tr_restaurants_delivery_3', 'sum_tr_airlines_1', 'sum_tr_charity_1', 'sum_tr_computer_program_retail_6', 'sum_tr_auto_rental_3', 'sum_tr_gambling_12', 'sum_tr_office_supplies_1', 'sum_tr_games_store_3', 'sum_tr_lottery_12m', 'sum_tr_restaurants_alcohol_1', 'sum_tr_duty_free_6', 'sum_tr_education_1', 'sum_tr_lodging_1', 'sum_tr_auto_rental_6', 'sum_tr_abroad_1', 'sum_tr_membership_clubs_3', 'sum_tr_restaurants_delivery_6', 'sum_tr_transportation_rzd_1', 'sum_tr_penalty__1', 'sum_tr_sports_recreation_1', 'sum_tr_sporting_goods_retail_1', 'sum_tr_charity_3', 'sum_tr_computer_program_retail_12', 'sum_tr_travel_agencies_1', 'sum_tr_cleaning_services_3', 'sum_tr_games_store_6', 'sum_tr_insurance_3', 'sum_tr_jewelry_retail_3', 'sum_tr_auto_rental_12', 'sum_tr_duty_free_12', 'sum_tr_airlines_3', 'sum_tr_postal_courier_services_1', 'sum_tr_membership_clubs_6', 'sum_tr_direct_marketing_1', 'sum_tr_charity_6', 'sum_tr_restaurants_delivery_12', 'sum_tr_books_store_1', 'sum_tr_education_3', 'sum_tr_office_supplies_3', 'sum_tr_abroad_3', 'sum_tr_tax_1m', 'sum_tr_business_services_1', 'sum_tr_restaurants_alcohol_3', 'sum_tr_games_store_12', 'sum_tr_penalty__3', 'sum_tr_toy_retail_1', 'sum_tr_cleaning_services_6', 'sum_tr_transportation_taxi_1', 'sum_tr_tax_govt_services_1', 'sum_tr_florist_1', 'sum_tr_lodging_3', 'sum_tr_pet_retail_service_1', 'sum_tr_sports_recreation_3', 'sum_tr_transportation_rzd_3', 'sum_tr_insurance_6', 'sum_tr_music_digital_video_store_1', 'sum_tr_jewelry_retail_6', 'sum_tr_direct_marketing_3', 'sum_tr_airlines_6', 'sum_tr_appliance_retail_1', 'sum_tr_membership_clubs_12', 'sum_tr_trip_1m', 'sum_tr_charity_12', 'sum_tr_leisure_goods_retail_1', 'sum_tr_tobacco_retail_1', 'sum_tr_sporting_goods_retail_3', 'sum_tr_spa_beauty_services_1', 'sum_tr_penalty__6', 'sum_tr_travel_agencies_3', 'sum_tr_education_6', 'sum_tr_restaurants_alcohol_6', 'sum_tr_entertainment_1', 'sum_tr_transportation_taxi_3', 'sum_tr_abroad_6', 'sum_tr_office_supplies_6', 'sum_tr_direct_marketing_6', 'sum_tr_cleaning_services_12', 'sum_tr_music_digital_video_store_3', 'sum_tr_relax_1m', 'sum_tr_transportation_rzd_6', 'sum_tr_lodging_6', 'sum_tr_tax_3m', 'sum_tr_sports_recreation_6', 'sum_tr_postal_courier_services_3', 'sum_tr_books_store_3', 'sum_tr_business_services_3', 'sum_tr_medical_health_services_1', 'sum_tr_direct_marketing_12', 'sum_tr_toy_retail_3', 'sum_tr_transportation_taxi_6', 'sum_tr_airlines_12', 'sum_tr_auto_repair_1m', 'sum_tr_tax_govt_services_3', 'sum_tr_insurance_12', 'sum_tr_penalty__12', 'sum_tr_music_digital_video_store_6', 'sum_tr_pet_retail_service_3', 'sum_tr_auto_services_1', 'sum_tr_mobile_1m', 'sum_tr_jewelry_retail_12', 'sum_tr_sporting_goods_retail_6', 'sum_tr_tobacco_retail_3', 'sum_tr_travel_agencies_6', 'sum_tr_restaurants_alcohol_12', 'sum_tr_publ_util_1m', 'sum_tr_education_12']\n"
     ]
    },
    {
     "data": {
      "text/plain": [
       "(213345, 496)"
      ]
     },
     "execution_count": 14,
     "metadata": {},
     "output_type": "execute_result"
    }
   ],
   "source": [
    "empty_col_train_card = missing_values_train_card[missing_values_train_card > missing_values_train_card[0]*0.9]\n",
    "train_card = train_card.drop(columns = list(empty_col_train_card.index))\n",
    "drop_col += empty_col_train_card.index.tolist()\n",
    "print(drop_col)\n",
    "train_card.shape"
   ]
  },
  {
   "cell_type": "code",
   "execution_count": 20,
   "id": "5f71968c",
   "metadata": {},
   "outputs": [
    {
     "name": "stdout",
     "output_type": "stream",
     "text": [
      "\n",
      "Columns with missing values:\n",
      " sum_most_popular_mcc_7321_1m     213345\n",
      "sum_most_popular_mcc_9211_1m     213344\n",
      "sum_most_popular_mcc_9211_3m     213343\n",
      "sum_most_popular_mcc_7321_6m     213342\n",
      "sum_most_popular_mcc_7321_3m     213342\n",
      "                                  ...  \n",
      "cnt_most_popular_mcc_6538_12m     63339\n",
      "cnt_most_popular_mcc_6540_12m     63339\n",
      "cnt_most_popular_mcc_5251_12m     63339\n",
      "cnt_most_popular_mcc_7011_12m     63339\n",
      "cnt_most_popular_mcc_5231_12m     63339\n",
      "Length: 1640, dtype: int64\n"
     ]
    }
   ],
   "source": [
    "missing_values_train_mcc_operations = train_mcc_operations.isnull().sum().sort_values(ascending = False)\n",
    "missing_values_train_mcc_operations = missing_values_train_mcc_operations[missing_values_train_mcc_operations > 0]\n",
    "print('\\nColumns with missing values:\\n', missing_values_train_mcc_operations)"
   ]
  },
  {
   "cell_type": "code",
   "execution_count": 21,
   "id": "8c3c86c1",
   "metadata": {},
   "outputs": [
    {
     "data": {
      "text/plain": [
       "(213345, 935)"
      ]
     },
     "execution_count": 21,
     "metadata": {},
     "output_type": "execute_result"
    }
   ],
   "source": [
    "empty_col_train_mcc_operations = missing_values_train_mcc_operations[missing_values_train_mcc_operations > missing_values_train_mcc_operations[0]*0.9]\n",
    "train_mcc_operations = train_mcc_operations.drop(columns = list(empty_col_train_mcc_operations.index))\n",
    "train_mcc_operations.shape"
   ]
  },
  {
   "cell_type": "code",
   "execution_count": 22,
   "id": "cb9226e4",
   "metadata": {},
   "outputs": [
    {
     "name": "stdout",
     "output_type": "stream",
     "text": [
      "\n",
      "Columns with missing values:\n",
      " preferences_div_sum_tr_cat_entertainment_1m    107148\n",
      "preferences_div_sum_tr_MCC_code_5013_1m        107148\n",
      "preferences_div_sum_tr_MCC_code_5137_1m        107148\n",
      "preferences_div_sum_tr_MCC_code_5131_1m        107148\n",
      "preferences_div_sum_tr_MCC_code_5122_1m        107148\n",
      "                                                ...  \n",
      "preferences_div_cnt_tr_MCC_code_5967_12m        63588\n",
      "preferences_div_cnt_tr_MCC_code_5964_12m        63588\n",
      "preferences_div_cnt_tr_MCC_code_5950_12m        63588\n",
      "preferences_div_cnt_tr_MCC_code_5949_12m        63588\n",
      "preferences_div_cnt_tr_MCC_code_5948_12m        63588\n",
      "Length: 2112, dtype: int64\n"
     ]
    }
   ],
   "source": [
    "missing_values_train_mcc_preferences = train_mcc_preferences.isnull().sum().sort_values(ascending = False)\n",
    "missing_values_train_mcc_preferences = missing_values_train_mcc_preferences[missing_values_train_mcc_preferences > 0]\n",
    "print('\\nColumns with missing values:\\n', missing_values_train_mcc_preferences)"
   ]
  },
  {
   "cell_type": "code",
   "execution_count": 23,
   "id": "8496fec5",
   "metadata": {},
   "outputs": [
    {
     "data": {
      "text/plain": [
       "(213345, 1057)"
      ]
     },
     "execution_count": 23,
     "metadata": {},
     "output_type": "execute_result"
    }
   ],
   "source": [
    "empty_col_train_mcc_preferences = missing_values_train_mcc_preferences[missing_values_train_mcc_preferences > missing_values_train_mcc_preferences[0]*0.8]\n",
    "train_mcc_preferences = train_mcc_preferences.drop(columns = list(empty_col_train_mcc_preferences.index))\n",
    "train_mcc_preferences.shape"
   ]
  },
  {
   "cell_type": "code",
   "execution_count": 24,
   "id": "b6356d0a",
   "metadata": {},
   "outputs": [
    {
     "name": "stdout",
     "output_type": "stream",
     "text": [
      "\n",
      "Columns with missing values:\n",
      " vehicle_counrty_type_nm    206739\n",
      "max_amt_foreign_cur_5y     201136\n",
      "max_amt_dep_6m             182526\n",
      "min_amt_term_g1y           180330\n",
      "max_amt_dep_act            175074\n",
      "                            ...  \n",
      "cnt_grow_5y                    26\n",
      "cnt_dep_closed_5y              26\n",
      "cnt_early_withdraw_5y          26\n",
      "cnt_dep_6m                     26\n",
      "cnt_dep_5y                     26\n",
      "Length: 167, dtype: int64\n"
     ]
    }
   ],
   "source": [
    "missing_values_train = train.isnull().sum().sort_values(ascending = False)\n",
    "missing_values_train = missing_values_train[missing_values_train > 0]\n",
    "print('\\nColumns with missing values:\\n', missing_values_train)"
   ]
  },
  {
   "cell_type": "markdown",
   "id": "513d0ab4",
   "metadata": {},
   "source": [
    "Объединение данных из разных файлов"
   ]
  },
  {
   "cell_type": "code",
   "execution_count": 26,
   "id": "b771a351",
   "metadata": {},
   "outputs": [],
   "source": [
    "train_card = dd.from_pandas(train_card, npartitions = 3)\n",
    "train_mcc_operations = dd.from_pandas(train_mcc_operations, npartitions = 3)\n",
    "train_mcc_preferences = dd.from_pandas(train_mcc_preferences, npartitions = 3)"
   ]
  },
  {
   "cell_type": "code",
   "execution_count": 15,
   "id": "a8b68b4b",
   "metadata": {},
   "outputs": [
    {
     "data": {
      "text/plain": [
       "(213345, 773)"
      ]
     },
     "execution_count": 15,
     "metadata": {},
     "output_type": "execute_result"
    }
   ],
   "source": [
    "train = pd.merge(train_main, train_card, on = 'user_id', how = 'left')\n",
    "train.shape"
   ]
  },
  {
   "cell_type": "code",
   "execution_count": null,
   "id": "945c23b8",
   "metadata": {},
   "outputs": [
    {
     "data": {
      "text/plain": [
       "(Delayed('int-ca3c6baa-dfd7-4e7c-84f4-315c15556af4'), 1707)"
      ]
     },
     "execution_count": 28,
     "metadata": {},
     "output_type": "execute_result"
    }
   ],
   "source": [
    "train = pd.merge(train, train_mcc_operations, on = 'user_id', how = 'left')\n",
    "train.shape"
   ]
  },
  {
   "cell_type": "code",
   "execution_count": null,
   "id": "cf1b947f",
   "metadata": {},
   "outputs": [
    {
     "data": {
      "text/plain": [
       "(Delayed('int-8e171aa0-8e9d-49ad-876e-1d2110b11791'), 2763)"
      ]
     },
     "execution_count": 29,
     "metadata": {},
     "output_type": "execute_result"
    }
   ],
   "source": [
    "train = pd.merge(train, train_mcc_preferences, on = 'user_id', how = 'left')\n",
    "train.shape"
   ]
  },
  {
   "cell_type": "code",
   "execution_count": null,
   "id": "966edc90",
   "metadata": {},
   "outputs": [],
   "source": [
    "#train.shape()\n",
    "#train.dropna()\n",
    "#train.head()"
   ]
  },
  {
   "cell_type": "code",
   "execution_count": 30,
   "id": "d6bdd45e",
   "metadata": {},
   "outputs": [
    {
     "name": "stderr",
     "output_type": "stream",
     "text": [
      "ignoring exception in ensure_cleanup_on_exception\n",
      "Traceback (most recent call last):\n",
      "  File \"c:\\Users\\askor\\AppData\\Local\\Programs\\Python\\Python37\\lib\\site-packages\\dask\\dataframe\\shuffle.py\", line 914, in ensure_cleanup_on_exception\n",
      "    yield\n",
      "  File \"c:\\Users\\askor\\AppData\\Local\\Programs\\Python\\Python37\\lib\\site-packages\\dask\\dataframe\\shuffle.py\", line 929, in shuffle_group_3\n",
      "    p.append(d, fsync=True)\n",
      "  File \"c:\\Users\\askor\\AppData\\Local\\Programs\\Python\\Python37\\lib\\site-packages\\partd\\encode.py\", line 23, in append\n",
      "    data = valmap(self.encode, data)\n",
      "  File \"c:\\Users\\askor\\AppData\\Local\\Programs\\Python\\Python37\\lib\\site-packages\\toolz\\dicttoolz.py\", line 85, in valmap\n",
      "    rv.update(zip(d.keys(), map(func, d.values())))\n",
      "  File \"c:\\Users\\askor\\AppData\\Local\\Programs\\Python\\Python37\\lib\\site-packages\\partd\\pandas.py\", line 186, in serialize\n",
      "    return b''.join(map(frame, frames))\n",
      "  File \"c:\\Users\\askor\\AppData\\Local\\Programs\\Python\\Python37\\lib\\site-packages\\partd\\utils.py\", line 40, in frame\n",
      "    return struct.pack('Q', len(bytes)) + bytes\n",
      "MemoryError\n",
      "\n",
      "During handling of the above exception, another exception occurred:\n",
      "\n",
      "Traceback (most recent call last):\n",
      "  File \"c:\\Users\\askor\\AppData\\Local\\Programs\\Python\\Python37\\lib\\site-packages\\dask\\dataframe\\shuffle.py\", line 919, in ensure_cleanup_on_exception\n",
      "    p.drop()\n",
      "  File \"c:\\Users\\askor\\AppData\\Local\\Programs\\Python\\Python37\\lib\\site-packages\\partd\\encode.py\", line 39, in drop\n",
      "    return self.partd.drop()\n",
      "  File \"c:\\Users\\askor\\AppData\\Local\\Programs\\Python\\Python37\\lib\\site-packages\\partd\\buffer.py\", line 78, in drop\n",
      "    self.slow.drop()\n",
      "  File \"c:\\Users\\askor\\AppData\\Local\\Programs\\Python\\Python37\\lib\\site-packages\\partd\\file.py\", line 93, in drop\n",
      "    shutil.rmtree(self.path)\n",
      "  File \"c:\\Users\\askor\\AppData\\Local\\Programs\\Python\\Python37\\lib\\shutil.py\", line 507, in rmtree\n",
      "    return _rmtree_unsafe(path, onerror)\n",
      "  File \"c:\\Users\\askor\\AppData\\Local\\Programs\\Python\\Python37\\lib\\shutil.py\", line 395, in _rmtree_unsafe\n",
      "    onerror(os.rmdir, path, sys.exc_info())\n",
      "  File \"c:\\Users\\askor\\AppData\\Local\\Programs\\Python\\Python37\\lib\\shutil.py\", line 393, in _rmtree_unsafe\n",
      "    os.rmdir(path)\n",
      "FileNotFoundError: [WinError 2] Не удается найти указанный файл: 'C:\\\\Users\\\\askor\\\\AppData\\\\Local\\\\Temp\\\\tmpl0btfjgn.partd'\n"
     ]
    },
    {
     "ename": "MemoryError",
     "evalue": "",
     "output_type": "error",
     "traceback": [
      "\u001b[1;31m---------------------------------------------------------------------------\u001b[0m",
      "\u001b[1;31mMemoryError\u001b[0m                               Traceback (most recent call last)",
      "\u001b[1;32m<ipython-input-30-2df69c28ae8c>\u001b[0m in \u001b[0;36m<module>\u001b[1;34m\u001b[0m\n\u001b[1;32m----> 1\u001b[1;33m \u001b[0mtrain\u001b[0m \u001b[1;33m=\u001b[0m \u001b[0mtrain\u001b[0m\u001b[1;33m.\u001b[0m\u001b[0mcompute\u001b[0m\u001b[1;33m(\u001b[0m\u001b[1;33m)\u001b[0m\u001b[1;33m\u001b[0m\u001b[1;33m\u001b[0m\u001b[0m\n\u001b[0m",
      "\u001b[1;32mc:\\Users\\askor\\AppData\\Local\\Programs\\Python\\Python37\\lib\\site-packages\\dask\\base.py\u001b[0m in \u001b[0;36mcompute\u001b[1;34m(self, **kwargs)\u001b[0m\n\u001b[0;32m    288\u001b[0m         \u001b[0mdask\u001b[0m\u001b[1;33m.\u001b[0m\u001b[0mbase\u001b[0m\u001b[1;33m.\u001b[0m\u001b[0mcompute\u001b[0m\u001b[1;33m\u001b[0m\u001b[1;33m\u001b[0m\u001b[0m\n\u001b[0;32m    289\u001b[0m         \"\"\"\n\u001b[1;32m--> 290\u001b[1;33m         \u001b[1;33m(\u001b[0m\u001b[0mresult\u001b[0m\u001b[1;33m,\u001b[0m\u001b[1;33m)\u001b[0m \u001b[1;33m=\u001b[0m \u001b[0mcompute\u001b[0m\u001b[1;33m(\u001b[0m\u001b[0mself\u001b[0m\u001b[1;33m,\u001b[0m \u001b[0mtraverse\u001b[0m\u001b[1;33m=\u001b[0m\u001b[1;32mFalse\u001b[0m\u001b[1;33m,\u001b[0m \u001b[1;33m**\u001b[0m\u001b[0mkwargs\u001b[0m\u001b[1;33m)\u001b[0m\u001b[1;33m\u001b[0m\u001b[1;33m\u001b[0m\u001b[0m\n\u001b[0m\u001b[0;32m    291\u001b[0m         \u001b[1;32mreturn\u001b[0m \u001b[0mresult\u001b[0m\u001b[1;33m\u001b[0m\u001b[1;33m\u001b[0m\u001b[0m\n\u001b[0;32m    292\u001b[0m \u001b[1;33m\u001b[0m\u001b[0m\n",
      "\u001b[1;32mc:\\Users\\askor\\AppData\\Local\\Programs\\Python\\Python37\\lib\\site-packages\\dask\\base.py\u001b[0m in \u001b[0;36mcompute\u001b[1;34m(traverse, optimize_graph, scheduler, get, *args, **kwargs)\u001b[0m\n\u001b[0;32m    571\u001b[0m         \u001b[0mpostcomputes\u001b[0m\u001b[1;33m.\u001b[0m\u001b[0mappend\u001b[0m\u001b[1;33m(\u001b[0m\u001b[0mx\u001b[0m\u001b[1;33m.\u001b[0m\u001b[0m__dask_postcompute__\u001b[0m\u001b[1;33m(\u001b[0m\u001b[1;33m)\u001b[0m\u001b[1;33m)\u001b[0m\u001b[1;33m\u001b[0m\u001b[1;33m\u001b[0m\u001b[0m\n\u001b[0;32m    572\u001b[0m \u001b[1;33m\u001b[0m\u001b[0m\n\u001b[1;32m--> 573\u001b[1;33m     \u001b[0mresults\u001b[0m \u001b[1;33m=\u001b[0m \u001b[0mschedule\u001b[0m\u001b[1;33m(\u001b[0m\u001b[0mdsk\u001b[0m\u001b[1;33m,\u001b[0m \u001b[0mkeys\u001b[0m\u001b[1;33m,\u001b[0m \u001b[1;33m**\u001b[0m\u001b[0mkwargs\u001b[0m\u001b[1;33m)\u001b[0m\u001b[1;33m\u001b[0m\u001b[1;33m\u001b[0m\u001b[0m\n\u001b[0m\u001b[0;32m    574\u001b[0m     \u001b[1;32mreturn\u001b[0m \u001b[0mrepack\u001b[0m\u001b[1;33m(\u001b[0m\u001b[1;33m[\u001b[0m\u001b[0mf\u001b[0m\u001b[1;33m(\u001b[0m\u001b[0mr\u001b[0m\u001b[1;33m,\u001b[0m \u001b[1;33m*\u001b[0m\u001b[0ma\u001b[0m\u001b[1;33m)\u001b[0m \u001b[1;32mfor\u001b[0m \u001b[0mr\u001b[0m\u001b[1;33m,\u001b[0m \u001b[1;33m(\u001b[0m\u001b[0mf\u001b[0m\u001b[1;33m,\u001b[0m \u001b[0ma\u001b[0m\u001b[1;33m)\u001b[0m \u001b[1;32min\u001b[0m \u001b[0mzip\u001b[0m\u001b[1;33m(\u001b[0m\u001b[0mresults\u001b[0m\u001b[1;33m,\u001b[0m \u001b[0mpostcomputes\u001b[0m\u001b[1;33m)\u001b[0m\u001b[1;33m]\u001b[0m\u001b[1;33m)\u001b[0m\u001b[1;33m\u001b[0m\u001b[1;33m\u001b[0m\u001b[0m\n\u001b[0;32m    575\u001b[0m \u001b[1;33m\u001b[0m\u001b[0m\n",
      "\u001b[1;32mc:\\Users\\askor\\AppData\\Local\\Programs\\Python\\Python37\\lib\\site-packages\\dask\\threaded.py\u001b[0m in \u001b[0;36mget\u001b[1;34m(dsk, result, cache, num_workers, pool, **kwargs)\u001b[0m\n\u001b[0;32m     87\u001b[0m         \u001b[0mget_id\u001b[0m\u001b[1;33m=\u001b[0m\u001b[0m_thread_get_id\u001b[0m\u001b[1;33m,\u001b[0m\u001b[1;33m\u001b[0m\u001b[1;33m\u001b[0m\u001b[0m\n\u001b[0;32m     88\u001b[0m         \u001b[0mpack_exception\u001b[0m\u001b[1;33m=\u001b[0m\u001b[0mpack_exception\u001b[0m\u001b[1;33m,\u001b[0m\u001b[1;33m\u001b[0m\u001b[1;33m\u001b[0m\u001b[0m\n\u001b[1;32m---> 89\u001b[1;33m         \u001b[1;33m**\u001b[0m\u001b[0mkwargs\u001b[0m\u001b[1;33m,\u001b[0m\u001b[1;33m\u001b[0m\u001b[1;33m\u001b[0m\u001b[0m\n\u001b[0m\u001b[0;32m     90\u001b[0m     )\n\u001b[0;32m     91\u001b[0m \u001b[1;33m\u001b[0m\u001b[0m\n",
      "\u001b[1;32mc:\\Users\\askor\\AppData\\Local\\Programs\\Python\\Python37\\lib\\site-packages\\dask\\local.py\u001b[0m in \u001b[0;36mget_async\u001b[1;34m(submit, num_workers, dsk, result, cache, get_id, rerun_exceptions_locally, pack_exception, raise_exception, callbacks, dumps, loads, chunksize, **kwargs)\u001b[0m\n\u001b[0;32m    504\u001b[0m                             \u001b[0m_execute_task\u001b[0m\u001b[1;33m(\u001b[0m\u001b[0mtask\u001b[0m\u001b[1;33m,\u001b[0m \u001b[0mdata\u001b[0m\u001b[1;33m)\u001b[0m  \u001b[1;31m# Re-execute locally\u001b[0m\u001b[1;33m\u001b[0m\u001b[1;33m\u001b[0m\u001b[0m\n\u001b[0;32m    505\u001b[0m                         \u001b[1;32melse\u001b[0m\u001b[1;33m:\u001b[0m\u001b[1;33m\u001b[0m\u001b[1;33m\u001b[0m\u001b[0m\n\u001b[1;32m--> 506\u001b[1;33m                             \u001b[0mraise_exception\u001b[0m\u001b[1;33m(\u001b[0m\u001b[0mexc\u001b[0m\u001b[1;33m,\u001b[0m \u001b[0mtb\u001b[0m\u001b[1;33m)\u001b[0m\u001b[1;33m\u001b[0m\u001b[1;33m\u001b[0m\u001b[0m\n\u001b[0m\u001b[0;32m    507\u001b[0m                     \u001b[0mres\u001b[0m\u001b[1;33m,\u001b[0m \u001b[0mworker_id\u001b[0m \u001b[1;33m=\u001b[0m \u001b[0mloads\u001b[0m\u001b[1;33m(\u001b[0m\u001b[0mres_info\u001b[0m\u001b[1;33m)\u001b[0m\u001b[1;33m\u001b[0m\u001b[1;33m\u001b[0m\u001b[0m\n\u001b[0;32m    508\u001b[0m                     \u001b[0mstate\u001b[0m\u001b[1;33m[\u001b[0m\u001b[1;34m\"cache\"\u001b[0m\u001b[1;33m]\u001b[0m\u001b[1;33m[\u001b[0m\u001b[0mkey\u001b[0m\u001b[1;33m]\u001b[0m \u001b[1;33m=\u001b[0m \u001b[0mres\u001b[0m\u001b[1;33m\u001b[0m\u001b[1;33m\u001b[0m\u001b[0m\n",
      "\u001b[1;32mc:\\Users\\askor\\AppData\\Local\\Programs\\Python\\Python37\\lib\\site-packages\\dask\\local.py\u001b[0m in \u001b[0;36mreraise\u001b[1;34m(exc, tb)\u001b[0m\n\u001b[0;32m    312\u001b[0m     \u001b[1;32mif\u001b[0m \u001b[0mexc\u001b[0m\u001b[1;33m.\u001b[0m\u001b[0m__traceback__\u001b[0m \u001b[1;32mis\u001b[0m \u001b[1;32mnot\u001b[0m \u001b[0mtb\u001b[0m\u001b[1;33m:\u001b[0m\u001b[1;33m\u001b[0m\u001b[1;33m\u001b[0m\u001b[0m\n\u001b[0;32m    313\u001b[0m         \u001b[1;32mraise\u001b[0m \u001b[0mexc\u001b[0m\u001b[1;33m.\u001b[0m\u001b[0mwith_traceback\u001b[0m\u001b[1;33m(\u001b[0m\u001b[0mtb\u001b[0m\u001b[1;33m)\u001b[0m\u001b[1;33m\u001b[0m\u001b[1;33m\u001b[0m\u001b[0m\n\u001b[1;32m--> 314\u001b[1;33m     \u001b[1;32mraise\u001b[0m \u001b[0mexc\u001b[0m\u001b[1;33m\u001b[0m\u001b[1;33m\u001b[0m\u001b[0m\n\u001b[0m\u001b[0;32m    315\u001b[0m \u001b[1;33m\u001b[0m\u001b[0m\n\u001b[0;32m    316\u001b[0m \u001b[1;33m\u001b[0m\u001b[0m\n",
      "\u001b[1;32mc:\\Users\\askor\\AppData\\Local\\Programs\\Python\\Python37\\lib\\site-packages\\dask\\local.py\u001b[0m in \u001b[0;36mexecute_task\u001b[1;34m(key, task_info, dumps, loads, get_id, pack_exception)\u001b[0m\n\u001b[0;32m    217\u001b[0m     \u001b[1;32mtry\u001b[0m\u001b[1;33m:\u001b[0m\u001b[1;33m\u001b[0m\u001b[1;33m\u001b[0m\u001b[0m\n\u001b[0;32m    218\u001b[0m         \u001b[0mtask\u001b[0m\u001b[1;33m,\u001b[0m \u001b[0mdata\u001b[0m \u001b[1;33m=\u001b[0m \u001b[0mloads\u001b[0m\u001b[1;33m(\u001b[0m\u001b[0mtask_info\u001b[0m\u001b[1;33m)\u001b[0m\u001b[1;33m\u001b[0m\u001b[1;33m\u001b[0m\u001b[0m\n\u001b[1;32m--> 219\u001b[1;33m         \u001b[0mresult\u001b[0m \u001b[1;33m=\u001b[0m \u001b[0m_execute_task\u001b[0m\u001b[1;33m(\u001b[0m\u001b[0mtask\u001b[0m\u001b[1;33m,\u001b[0m \u001b[0mdata\u001b[0m\u001b[1;33m)\u001b[0m\u001b[1;33m\u001b[0m\u001b[1;33m\u001b[0m\u001b[0m\n\u001b[0m\u001b[0;32m    220\u001b[0m         \u001b[0mid\u001b[0m \u001b[1;33m=\u001b[0m \u001b[0mget_id\u001b[0m\u001b[1;33m(\u001b[0m\u001b[1;33m)\u001b[0m\u001b[1;33m\u001b[0m\u001b[1;33m\u001b[0m\u001b[0m\n\u001b[0;32m    221\u001b[0m         \u001b[0mresult\u001b[0m \u001b[1;33m=\u001b[0m \u001b[0mdumps\u001b[0m\u001b[1;33m(\u001b[0m\u001b[1;33m(\u001b[0m\u001b[0mresult\u001b[0m\u001b[1;33m,\u001b[0m \u001b[0mid\u001b[0m\u001b[1;33m)\u001b[0m\u001b[1;33m)\u001b[0m\u001b[1;33m\u001b[0m\u001b[1;33m\u001b[0m\u001b[0m\n",
      "\u001b[1;32mc:\\Users\\askor\\AppData\\Local\\Programs\\Python\\Python37\\lib\\site-packages\\dask\\core.py\u001b[0m in \u001b[0;36m_execute_task\u001b[1;34m(arg, cache, dsk)\u001b[0m\n\u001b[0;32m    117\u001b[0m         \u001b[1;31m# temporaries by their reference count and can execute certain\u001b[0m\u001b[1;33m\u001b[0m\u001b[1;33m\u001b[0m\u001b[1;33m\u001b[0m\u001b[0m\n\u001b[0;32m    118\u001b[0m         \u001b[1;31m# operations in-place.\u001b[0m\u001b[1;33m\u001b[0m\u001b[1;33m\u001b[0m\u001b[1;33m\u001b[0m\u001b[0m\n\u001b[1;32m--> 119\u001b[1;33m         \u001b[1;32mreturn\u001b[0m \u001b[0mfunc\u001b[0m\u001b[1;33m(\u001b[0m\u001b[1;33m*\u001b[0m\u001b[1;33m(\u001b[0m\u001b[0m_execute_task\u001b[0m\u001b[1;33m(\u001b[0m\u001b[0ma\u001b[0m\u001b[1;33m,\u001b[0m \u001b[0mcache\u001b[0m\u001b[1;33m)\u001b[0m \u001b[1;32mfor\u001b[0m \u001b[0ma\u001b[0m \u001b[1;32min\u001b[0m \u001b[0margs\u001b[0m\u001b[1;33m)\u001b[0m\u001b[1;33m)\u001b[0m\u001b[1;33m\u001b[0m\u001b[1;33m\u001b[0m\u001b[0m\n\u001b[0m\u001b[0;32m    120\u001b[0m     \u001b[1;32melif\u001b[0m \u001b[1;32mnot\u001b[0m \u001b[0mishashable\u001b[0m\u001b[1;33m(\u001b[0m\u001b[0marg\u001b[0m\u001b[1;33m)\u001b[0m\u001b[1;33m:\u001b[0m\u001b[1;33m\u001b[0m\u001b[1;33m\u001b[0m\u001b[0m\n\u001b[0;32m    121\u001b[0m         \u001b[1;32mreturn\u001b[0m \u001b[0marg\u001b[0m\u001b[1;33m\u001b[0m\u001b[1;33m\u001b[0m\u001b[0m\n",
      "\u001b[1;32mc:\\Users\\askor\\AppData\\Local\\Programs\\Python\\Python37\\lib\\site-packages\\dask\\dataframe\\shuffle.py\u001b[0m in \u001b[0;36mshuffle_group_3\u001b[1;34m(df, col, npartitions, p)\u001b[0m\n\u001b[0;32m    927\u001b[0m         \u001b[0mg\u001b[0m \u001b[1;33m=\u001b[0m \u001b[0mdf\u001b[0m\u001b[1;33m.\u001b[0m\u001b[0mgroupby\u001b[0m\u001b[1;33m(\u001b[0m\u001b[0mcol\u001b[0m\u001b[1;33m)\u001b[0m\u001b[1;33m\u001b[0m\u001b[1;33m\u001b[0m\u001b[0m\n\u001b[0;32m    928\u001b[0m         \u001b[0md\u001b[0m \u001b[1;33m=\u001b[0m \u001b[1;33m{\u001b[0m\u001b[0mi\u001b[0m\u001b[1;33m:\u001b[0m \u001b[0mg\u001b[0m\u001b[1;33m.\u001b[0m\u001b[0mget_group\u001b[0m\u001b[1;33m(\u001b[0m\u001b[0mi\u001b[0m\u001b[1;33m)\u001b[0m \u001b[1;32mfor\u001b[0m \u001b[0mi\u001b[0m \u001b[1;32min\u001b[0m \u001b[0mg\u001b[0m\u001b[1;33m.\u001b[0m\u001b[0mgroups\u001b[0m\u001b[1;33m}\u001b[0m\u001b[1;33m\u001b[0m\u001b[1;33m\u001b[0m\u001b[0m\n\u001b[1;32m--> 929\u001b[1;33m         \u001b[0mp\u001b[0m\u001b[1;33m.\u001b[0m\u001b[0mappend\u001b[0m\u001b[1;33m(\u001b[0m\u001b[0md\u001b[0m\u001b[1;33m,\u001b[0m \u001b[0mfsync\u001b[0m\u001b[1;33m=\u001b[0m\u001b[1;32mTrue\u001b[0m\u001b[1;33m)\u001b[0m\u001b[1;33m\u001b[0m\u001b[1;33m\u001b[0m\u001b[0m\n\u001b[0m\u001b[0;32m    930\u001b[0m \u001b[1;33m\u001b[0m\u001b[0m\n\u001b[0;32m    931\u001b[0m \u001b[1;33m\u001b[0m\u001b[0m\n",
      "\u001b[1;32mc:\\Users\\askor\\AppData\\Local\\Programs\\Python\\Python37\\lib\\site-packages\\partd\\encode.py\u001b[0m in \u001b[0;36mappend\u001b[1;34m(self, data, **kwargs)\u001b[0m\n\u001b[0;32m     21\u001b[0m \u001b[1;33m\u001b[0m\u001b[0m\n\u001b[0;32m     22\u001b[0m     \u001b[1;32mdef\u001b[0m \u001b[0mappend\u001b[0m\u001b[1;33m(\u001b[0m\u001b[0mself\u001b[0m\u001b[1;33m,\u001b[0m \u001b[0mdata\u001b[0m\u001b[1;33m,\u001b[0m \u001b[1;33m**\u001b[0m\u001b[0mkwargs\u001b[0m\u001b[1;33m)\u001b[0m\u001b[1;33m:\u001b[0m\u001b[1;33m\u001b[0m\u001b[1;33m\u001b[0m\u001b[0m\n\u001b[1;32m---> 23\u001b[1;33m         \u001b[0mdata\u001b[0m \u001b[1;33m=\u001b[0m \u001b[0mvalmap\u001b[0m\u001b[1;33m(\u001b[0m\u001b[0mself\u001b[0m\u001b[1;33m.\u001b[0m\u001b[0mencode\u001b[0m\u001b[1;33m,\u001b[0m \u001b[0mdata\u001b[0m\u001b[1;33m)\u001b[0m\u001b[1;33m\u001b[0m\u001b[1;33m\u001b[0m\u001b[0m\n\u001b[0m\u001b[0;32m     24\u001b[0m         \u001b[0mdata\u001b[0m \u001b[1;33m=\u001b[0m \u001b[0mvalmap\u001b[0m\u001b[1;33m(\u001b[0m\u001b[0mframe\u001b[0m\u001b[1;33m,\u001b[0m \u001b[0mdata\u001b[0m\u001b[1;33m)\u001b[0m\u001b[1;33m\u001b[0m\u001b[1;33m\u001b[0m\u001b[0m\n\u001b[0;32m     25\u001b[0m         \u001b[0mself\u001b[0m\u001b[1;33m.\u001b[0m\u001b[0mpartd\u001b[0m\u001b[1;33m.\u001b[0m\u001b[0mappend\u001b[0m\u001b[1;33m(\u001b[0m\u001b[0mdata\u001b[0m\u001b[1;33m,\u001b[0m \u001b[1;33m**\u001b[0m\u001b[0mkwargs\u001b[0m\u001b[1;33m)\u001b[0m\u001b[1;33m\u001b[0m\u001b[1;33m\u001b[0m\u001b[0m\n",
      "\u001b[1;32mc:\\Users\\askor\\AppData\\Local\\Programs\\Python\\Python37\\lib\\site-packages\\toolz\\dicttoolz.py\u001b[0m in \u001b[0;36mvalmap\u001b[1;34m(func, d, factory)\u001b[0m\n\u001b[0;32m     83\u001b[0m     \"\"\"\n\u001b[0;32m     84\u001b[0m     \u001b[0mrv\u001b[0m \u001b[1;33m=\u001b[0m \u001b[0mfactory\u001b[0m\u001b[1;33m(\u001b[0m\u001b[1;33m)\u001b[0m\u001b[1;33m\u001b[0m\u001b[1;33m\u001b[0m\u001b[0m\n\u001b[1;32m---> 85\u001b[1;33m     \u001b[0mrv\u001b[0m\u001b[1;33m.\u001b[0m\u001b[0mupdate\u001b[0m\u001b[1;33m(\u001b[0m\u001b[0mzip\u001b[0m\u001b[1;33m(\u001b[0m\u001b[0md\u001b[0m\u001b[1;33m.\u001b[0m\u001b[0mkeys\u001b[0m\u001b[1;33m(\u001b[0m\u001b[1;33m)\u001b[0m\u001b[1;33m,\u001b[0m \u001b[0mmap\u001b[0m\u001b[1;33m(\u001b[0m\u001b[0mfunc\u001b[0m\u001b[1;33m,\u001b[0m \u001b[0md\u001b[0m\u001b[1;33m.\u001b[0m\u001b[0mvalues\u001b[0m\u001b[1;33m(\u001b[0m\u001b[1;33m)\u001b[0m\u001b[1;33m)\u001b[0m\u001b[1;33m)\u001b[0m\u001b[1;33m)\u001b[0m\u001b[1;33m\u001b[0m\u001b[1;33m\u001b[0m\u001b[0m\n\u001b[0m\u001b[0;32m     86\u001b[0m     \u001b[1;32mreturn\u001b[0m \u001b[0mrv\u001b[0m\u001b[1;33m\u001b[0m\u001b[1;33m\u001b[0m\u001b[0m\n\u001b[0;32m     87\u001b[0m \u001b[1;33m\u001b[0m\u001b[0m\n",
      "\u001b[1;32mc:\\Users\\askor\\AppData\\Local\\Programs\\Python\\Python37\\lib\\site-packages\\partd\\pandas.py\u001b[0m in \u001b[0;36mserialize\u001b[1;34m(df)\u001b[0m\n\u001b[0;32m    184\u001b[0m \u001b[1;33m\u001b[0m\u001b[0m\n\u001b[0;32m    185\u001b[0m     \u001b[0mframes\u001b[0m \u001b[1;33m=\u001b[0m \u001b[1;33m[\u001b[0m\u001b[0mdumps\u001b[0m\u001b[1;33m(\u001b[0m\u001b[0mheaders\u001b[0m\u001b[1;33m)\u001b[0m\u001b[1;33m]\u001b[0m \u001b[1;33m+\u001b[0m \u001b[0mbytes\u001b[0m\u001b[1;33m\u001b[0m\u001b[1;33m\u001b[0m\u001b[0m\n\u001b[1;32m--> 186\u001b[1;33m     \u001b[1;32mreturn\u001b[0m \u001b[1;34mb''\u001b[0m\u001b[1;33m.\u001b[0m\u001b[0mjoin\u001b[0m\u001b[1;33m(\u001b[0m\u001b[0mmap\u001b[0m\u001b[1;33m(\u001b[0m\u001b[0mframe\u001b[0m\u001b[1;33m,\u001b[0m \u001b[0mframes\u001b[0m\u001b[1;33m)\u001b[0m\u001b[1;33m)\u001b[0m\u001b[1;33m\u001b[0m\u001b[1;33m\u001b[0m\u001b[0m\n\u001b[0m\u001b[0;32m    187\u001b[0m \u001b[1;33m\u001b[0m\u001b[0m\n\u001b[0;32m    188\u001b[0m \u001b[1;33m\u001b[0m\u001b[0m\n",
      "\u001b[1;32mc:\\Users\\askor\\AppData\\Local\\Programs\\Python\\Python37\\lib\\site-packages\\partd\\utils.py\u001b[0m in \u001b[0;36mframe\u001b[1;34m(bytes)\u001b[0m\n\u001b[0;32m     38\u001b[0m     \u001b[1;36m2\u001b[0m\u001b[0mGB\u001b[0m\u001b[1;33m/\u001b[0m\u001b[0ms\u001b[0m\u001b[1;33m\u001b[0m\u001b[1;33m\u001b[0m\u001b[0m\n\u001b[0;32m     39\u001b[0m     \"\"\"\n\u001b[1;32m---> 40\u001b[1;33m     \u001b[1;32mreturn\u001b[0m \u001b[0mstruct\u001b[0m\u001b[1;33m.\u001b[0m\u001b[0mpack\u001b[0m\u001b[1;33m(\u001b[0m\u001b[1;34m'Q'\u001b[0m\u001b[1;33m,\u001b[0m \u001b[0mlen\u001b[0m\u001b[1;33m(\u001b[0m\u001b[0mbytes\u001b[0m\u001b[1;33m)\u001b[0m\u001b[1;33m)\u001b[0m \u001b[1;33m+\u001b[0m \u001b[0mbytes\u001b[0m\u001b[1;33m\u001b[0m\u001b[1;33m\u001b[0m\u001b[0m\n\u001b[0m\u001b[0;32m     41\u001b[0m \u001b[1;33m\u001b[0m\u001b[0m\n\u001b[0;32m     42\u001b[0m \u001b[1;33m\u001b[0m\u001b[0m\n",
      "\u001b[1;31mMemoryError\u001b[0m: "
     ]
    },
    {
     "name": "stderr",
     "output_type": "stream",
     "text": [
      "ignoring exception in ensure_cleanup_on_exception\n",
      "Traceback (most recent call last):\n",
      "  File \"c:\\Users\\askor\\AppData\\Local\\Programs\\Python\\Python37\\lib\\site-packages\\dask\\dataframe\\shuffle.py\", line 914, in ensure_cleanup_on_exception\n",
      "    yield\n",
      "  File \"c:\\Users\\askor\\AppData\\Local\\Programs\\Python\\Python37\\lib\\site-packages\\dask\\dataframe\\shuffle.py\", line 929, in shuffle_group_3\n",
      "    p.append(d, fsync=True)\n",
      "  File \"c:\\Users\\askor\\AppData\\Local\\Programs\\Python\\Python37\\lib\\site-packages\\partd\\encode.py\", line 23, in append\n",
      "    data = valmap(self.encode, data)\n",
      "  File \"c:\\Users\\askor\\AppData\\Local\\Programs\\Python\\Python37\\lib\\site-packages\\toolz\\dicttoolz.py\", line 85, in valmap\n",
      "    rv.update(zip(d.keys(), map(func, d.values())))\n",
      "  File \"c:\\Users\\askor\\AppData\\Local\\Programs\\Python\\Python37\\lib\\site-packages\\partd\\pandas.py\", line 186, in serialize\n",
      "    return b''.join(map(frame, frames))\n",
      "  File \"c:\\Users\\askor\\AppData\\Local\\Programs\\Python\\Python37\\lib\\site-packages\\partd\\utils.py\", line 40, in frame\n",
      "    return struct.pack('Q', len(bytes)) + bytes\n",
      "MemoryError\n",
      "\n",
      "During handling of the above exception, another exception occurred:\n",
      "\n",
      "Traceback (most recent call last):\n",
      "  File \"c:\\Users\\askor\\AppData\\Local\\Programs\\Python\\Python37\\lib\\site-packages\\dask\\dataframe\\shuffle.py\", line 919, in ensure_cleanup_on_exception\n",
      "    p.drop()\n",
      "  File \"c:\\Users\\askor\\AppData\\Local\\Programs\\Python\\Python37\\lib\\site-packages\\partd\\encode.py\", line 39, in drop\n",
      "    return self.partd.drop()\n",
      "  File \"c:\\Users\\askor\\AppData\\Local\\Programs\\Python\\Python37\\lib\\site-packages\\partd\\buffer.py\", line 78, in drop\n",
      "    self.slow.drop()\n",
      "  File \"c:\\Users\\askor\\AppData\\Local\\Programs\\Python\\Python37\\lib\\site-packages\\partd\\file.py\", line 93, in drop\n",
      "    shutil.rmtree(self.path)\n",
      "  File \"c:\\Users\\askor\\AppData\\Local\\Programs\\Python\\Python37\\lib\\shutil.py\", line 507, in rmtree\n",
      "    return _rmtree_unsafe(path, onerror)\n",
      "  File \"c:\\Users\\askor\\AppData\\Local\\Programs\\Python\\Python37\\lib\\shutil.py\", line 395, in _rmtree_unsafe\n",
      "    onerror(os.rmdir, path, sys.exc_info())\n",
      "  File \"c:\\Users\\askor\\AppData\\Local\\Programs\\Python\\Python37\\lib\\shutil.py\", line 393, in _rmtree_unsafe\n",
      "    os.rmdir(path)\n",
      "PermissionError: [WinError 5] Отказано в доступе: 'C:\\\\Users\\\\askor\\\\AppData\\\\Local\\\\Temp\\\\tmpl0btfjgn.partd'\n"
     ]
    }
   ],
   "source": [
    "train = train.compute()"
   ]
  },
  {
   "cell_type": "code",
   "execution_count": 16,
   "id": "76236f2c",
   "metadata": {},
   "outputs": [
    {
     "name": "stdout",
     "output_type": "stream",
     "text": [
      "[ 33  47  57  63  64  92 121 272 278 279 280 281 282 283 284 285]\n"
     ]
    }
   ],
   "source": [
    "features = train.columns\n",
    "\n",
    "categorical_features = train[features].select_dtypes(include=['object']).columns\n",
    "\n",
    "for feature in categorical_features:\n",
    "    train[feature] = train[feature].astype(str)\n",
    "\n",
    "categorical_features_indices = np.where(train.dtypes == 'object')[0]\n",
    "print(categorical_features_indices)"
   ]
  },
  {
   "cell_type": "code",
   "execution_count": null,
   "id": "45f3520c",
   "metadata": {},
   "outputs": [],
   "source": [
    "#categorical_features_indices += categorical_features_indices_card\n",
    "#categorical_features += categorical_features_card"
   ]
  },
  {
   "cell_type": "code",
   "execution_count": 17,
   "id": "378306c2-1373-4868-96d2-0e9b54bcde9f",
   "metadata": {},
   "outputs": [],
   "source": [
    "train_pool = Pool(data = train, \n",
    "                  label = np.log1p(target['target']), \n",
    "                  cat_features = categorical_features_indices)"
   ]
  },
  {
   "cell_type": "markdown",
   "id": "e35224b7-1329-47ce-8ec6-e69d0ae6a0a9",
   "metadata": {},
   "source": [
    "#### Обучение\n",
    "\n",
    "Главные настройки, которые нам стоит учесть:\n",
    "\n",
    "- Так как метрика соревнования это RMSLE, а мы уже логарифмировали (log1p) целевую переменную, оптимизировать мы будем RMSE\n",
    "- У нас много пропусков в данных, поэтому нам очень повезло что у Catboost есть настройка nan_mode"
   ]
  },
  {
   "cell_type": "code",
   "execution_count": 18,
   "id": "ff688458-d150-42e8-99d1-b8aced7ffd61",
   "metadata": {},
   "outputs": [],
   "source": [
    "model = CatBoostRegressor(iterations = 100,\n",
    "                          early_stopping_rounds = 100, \n",
    "                          depth = 6,\n",
    "                          l2_leaf_reg = 1,\n",
    "                          learning_rate = 0.1, \n",
    "                          loss_function = 'RMSE', \n",
    "                          nan_mode = 'Min', \n",
    "                          random_seed = 314,\n",
    "                          verbose = 10)\n"
   ]
  },
  {
   "cell_type": "code",
   "execution_count": 19,
   "id": "3cd7c516-80b2-438c-ac59-f14e181c09ee",
   "metadata": {},
   "outputs": [
    {
     "name": "stdout",
     "output_type": "stream",
     "text": [
      "0:\tlearn: 5.1189322\ttotal: 659ms\tremaining: 1m 5s\n",
      "10:\tlearn: 2.7810142\ttotal: 6.16s\tremaining: 49.8s\n",
      "20:\tlearn: 2.2597227\ttotal: 10.9s\tremaining: 41s\n",
      "30:\tlearn: 2.1469454\ttotal: 15.3s\tremaining: 34.1s\n",
      "40:\tlearn: 2.1033715\ttotal: 19.7s\tremaining: 28.3s\n",
      "50:\tlearn: 2.0781013\ttotal: 23.6s\tremaining: 22.7s\n",
      "60:\tlearn: 2.0616375\ttotal: 27.6s\tremaining: 17.6s\n",
      "70:\tlearn: 2.0475776\ttotal: 31.6s\tremaining: 12.9s\n",
      "80:\tlearn: 2.0361002\ttotal: 35.5s\tremaining: 8.34s\n",
      "90:\tlearn: 2.0262115\ttotal: 39.3s\tremaining: 3.88s\n",
      "99:\tlearn: 2.0186628\ttotal: 42.9s\tremaining: 0us\n"
     ]
    },
    {
     "data": {
      "text/plain": [
       "<catboost.core.CatBoostRegressor at 0x220ba7723b0>"
      ]
     },
     "execution_count": 19,
     "metadata": {},
     "output_type": "execute_result"
    }
   ],
   "source": [
    "model.fit(train_pool)"
   ]
  },
  {
   "cell_type": "markdown",
   "id": "fe974317-8a22-4a11-abf7-298245c3e3a9",
   "metadata": {},
   "source": [
    "Мы успешно обучили модель 🌟️️️️️️\n",
    "\n",
    "И вправду — зачем нам валидация, если можно ее сразу отправить в соревнование и узнать наш результат на лидерборде? Он же не будет прямо сильно хуже чем в логе обучения? (ведь правда, да?)\n",
    "\n",
    "### Подготовка сабмита\n",
    "\n",
    "Посмотрим на пример рабочего бейзлайн решения. \n",
    "\n",
    "Именно в таком формате платформа ждет от нас решения:"
   ]
  },
  {
   "cell_type": "code",
   "execution_count": 20,
   "id": "456c9f2e-e51c-4419-a402-871cfd1322d6",
   "metadata": {},
   "outputs": [
    {
     "data": {
      "text/plain": [
       "(318451, 2)"
      ]
     },
     "execution_count": 20,
     "metadata": {},
     "output_type": "execute_result"
    }
   ],
   "source": [
    "sample = pd.read_csv('sample_submit_naive.csv')\n",
    "sample.shape"
   ]
  },
  {
   "cell_type": "code",
   "execution_count": 21,
   "id": "da43b692-9ec7-415d-9c61-42ffaaf6cdf5",
   "metadata": {},
   "outputs": [
    {
     "data": {
      "text/html": [
       "<div>\n",
       "<style scoped>\n",
       "    .dataframe tbody tr th:only-of-type {\n",
       "        vertical-align: middle;\n",
       "    }\n",
       "\n",
       "    .dataframe tbody tr th {\n",
       "        vertical-align: top;\n",
       "    }\n",
       "\n",
       "    .dataframe thead th {\n",
       "        text-align: right;\n",
       "    }\n",
       "</style>\n",
       "<table border=\"1\" class=\"dataframe\">\n",
       "  <thead>\n",
       "    <tr style=\"text-align: right;\">\n",
       "      <th></th>\n",
       "      <th>user_id</th>\n",
       "      <th>predict</th>\n",
       "    </tr>\n",
       "  </thead>\n",
       "  <tbody>\n",
       "    <tr>\n",
       "      <th>0</th>\n",
       "      <td>1000008</td>\n",
       "      <td>1.004656e+06</td>\n",
       "    </tr>\n",
       "    <tr>\n",
       "      <th>1</th>\n",
       "      <td>1000009</td>\n",
       "      <td>0.000000e+00</td>\n",
       "    </tr>\n",
       "    <tr>\n",
       "      <th>2</th>\n",
       "      <td>1000013</td>\n",
       "      <td>5.047758e+02</td>\n",
       "    </tr>\n",
       "    <tr>\n",
       "      <th>3</th>\n",
       "      <td>1000016</td>\n",
       "      <td>1.680799e+05</td>\n",
       "    </tr>\n",
       "    <tr>\n",
       "      <th>4</th>\n",
       "      <td>1000017</td>\n",
       "      <td>2.222542e+02</td>\n",
       "    </tr>\n",
       "  </tbody>\n",
       "</table>\n",
       "</div>"
      ],
      "text/plain": [
       "   user_id       predict\n",
       "0  1000008  1.004656e+06\n",
       "1  1000009  0.000000e+00\n",
       "2  1000013  5.047758e+02\n",
       "3  1000016  1.680799e+05\n",
       "4  1000017  2.222542e+02"
      ]
     },
     "execution_count": 21,
     "metadata": {},
     "output_type": "execute_result"
    }
   ],
   "source": [
    "sample.head(5)"
   ]
  },
  {
   "cell_type": "markdown",
   "id": "526becca-affc-439c-a378-15aa630705f3",
   "metadata": {},
   "source": [
    "С форматом тоже всё понятно. \n",
    "\n",
    "Важно заметить, что предсказания от нас ждут без преобразований целевой переменной, так что нужно будет сделать обратные преобразования предсказаний нашей модели.\n",
    "\n",
    "#### Использование модели \n",
    "\n",
    "Тестовые данные у нас уже есть, но их нужно подготовить для формата Catboost-а."
   ]
  },
  {
   "cell_type": "code",
   "execution_count": 23,
   "id": "8e673071",
   "metadata": {},
   "outputs": [],
   "source": [
    "test_main = pd.read_parquet('test_main.parquet')"
   ]
  },
  {
   "cell_type": "code",
   "execution_count": 24,
   "id": "52bb4e45",
   "metadata": {},
   "outputs": [],
   "source": [
    "test_card = pd.read_parquet('test_card_spending.parquet') #, engine = 'pyarrow', chunksize = '64MB'\n",
    "test_mcc_operations = pd.read_parquet('test_mcc_operations.parquet') #, engine = 'pyarrow', chunksize = '64MB'\n",
    "test_mcc_preferences = pd.read_parquet('test_mcc_preferences.parquet') #, engine = 'pyarrow', chunksize = '64MB'"
   ]
  },
  {
   "cell_type": "code",
   "execution_count": 25,
   "id": "103e0f64",
   "metadata": {},
   "outputs": [
    {
     "name": "stdout",
     "output_type": "stream",
     "text": [
      "['user_id', 'cat_maxspend_v1_1', 'cat_maxspend_v1_12', 'cat_maxspend_v1_3', 'cat_maxspend_v1_6', 'cat_maxspend_v2_1', 'cat_maxspend_v2_12', 'cat_maxspend_v2_3', 'cat_maxspend_v2_6', 'cc_avg_trns_12m', 'cc_avg_trns_1m', 'cc_cnt_trns_12m', 'cc_sum_trns_12m', 'cc_sum_trns_3m', 'cnt_mcc_codes_1', 'cnt_mcc_codes_12', 'cnt_mcc_codes_3', 'cnt_mcc_codes_6', 'cnt_tr_abroad_1', 'cnt_tr_abroad_12', 'cnt_tr_abroad_3', 'cnt_tr_abroad_6', 'cnt_tr_airlines_1', 'cnt_tr_airlines_12', 'cnt_tr_airlines_3', 'cnt_tr_airlines_6', 'cnt_tr_alkochol_12m', 'cnt_tr_alkochol_1m', 'cnt_tr_alkochol_3m', 'cnt_tr_alkochol_6m', 'cnt_tr_all_1', 'cnt_tr_all_12', 'cnt_tr_all_3', 'cnt_tr_all_6', 'cnt_tr_all_7d', 'cnt_tr_appliance_retail_1', 'cnt_tr_appliance_retail_12', 'cnt_tr_appliance_retail_3', 'cnt_tr_appliance_retail_6', 'cnt_tr_auto_rental_1', 'cnt_tr_auto_rental_12', 'cnt_tr_auto_rental_3', 'cnt_tr_auto_rental_6', 'cnt_tr_auto_repair_12m', 'cnt_tr_auto_repair_1m', 'cnt_tr_auto_repair_3m', 'cnt_tr_auto_repair_6m', 'cnt_tr_auto_services_1', 'cnt_tr_auto_services_12', 'cnt_tr_auto_services_3', 'cnt_tr_auto_services_6', 'cnt_tr_books_store_1', 'cnt_tr_books_store_12', 'cnt_tr_books_store_3', 'cnt_tr_books_store_6', 'cnt_tr_business_services_1', 'cnt_tr_business_services_12', 'cnt_tr_business_services_3', 'cnt_tr_business_services_6', 'cnt_tr_buy_12m', 'cnt_tr_buy_1m', 'cnt_tr_buy_3m', 'cnt_tr_buy_6m', 'cnt_tr_cash_1', 'cnt_tr_cash_12', 'cnt_tr_cash_3', 'cnt_tr_cash_6', 'cnt_tr_cash_in_1', 'cnt_tr_cash_in_12', 'cnt_tr_cash_in_3', 'cnt_tr_cash_in_6', 'cnt_tr_cash_services_1', 'cnt_tr_cash_services_12', 'cnt_tr_cash_services_3', 'cnt_tr_cash_services_6', 'cnt_tr_charity_1', 'cnt_tr_charity_12', 'cnt_tr_charity_3', 'cnt_tr_charity_6', 'cnt_tr_cleaning_services_1', 'cnt_tr_cleaning_services_12', 'cnt_tr_cleaning_services_3', 'cnt_tr_cleaning_services_6', 'cnt_tr_computer_program_retail_1', 'cnt_tr_computer_program_retail_12', 'cnt_tr_computer_program_retail_3', 'cnt_tr_computer_program_retail_6', 'cnt_tr_construction_services_1', 'cnt_tr_construction_services_12', 'cnt_tr_construction_services_3', 'cnt_tr_construction_services_6', 'cnt_tr_direct_marketing_1', 'cnt_tr_direct_marketing_12', 'cnt_tr_direct_marketing_3', 'cnt_tr_direct_marketing_6', 'cnt_tr_duty_free_1', 'cnt_tr_duty_free_12', 'cnt_tr_duty_free_3', 'cnt_tr_duty_free_6', 'cnt_tr_education_1', 'cnt_tr_education_12', 'cnt_tr_education_3', 'cnt_tr_education_6', 'cnt_tr_entertainment_1', 'cnt_tr_entertainment_12', 'cnt_tr_entertainment_3', 'cnt_tr_entertainment_6', 'cnt_tr_fashion_retail_1', 'cnt_tr_fashion_retail_12', 'cnt_tr_fashion_retail_3', 'cnt_tr_fashion_retail_6', 'cnt_tr_financial_services_1', 'cnt_tr_financial_services_12', 'cnt_tr_financial_services_3', 'cnt_tr_financial_services_6', 'cnt_tr_florist_1', 'cnt_tr_florist_12', 'cnt_tr_florist_3', 'cnt_tr_florist_6', 'cnt_tr_food_retail_1', 'cnt_tr_food_retail_12', 'cnt_tr_food_retail_3', 'cnt_tr_food_retail_6', 'cnt_tr_food_retail_alcohol_1', 'cnt_tr_food_retail_alcohol_12', 'cnt_tr_food_retail_alcohol_3', 'cnt_tr_food_retail_alcohol_6', 'cnt_tr_foreign_1', 'cnt_tr_foreign_12', 'cnt_tr_foreign_3', 'cnt_tr_foreign_6', 'cnt_tr_fuel_service_station_1', 'cnt_tr_fuel_service_station_12', 'cnt_tr_fuel_service_station_3', 'cnt_tr_fuel_service_station_6', 'cnt_tr_gambling_1', 'cnt_tr_gambling_12', 'cnt_tr_gambling_3', 'cnt_tr_gambling_6', 'cnt_tr_games_store_1', 'cnt_tr_games_store_12', 'cnt_tr_games_store_3', 'cnt_tr_games_store_6', 'cnt_tr_general_department_store_1', 'cnt_tr_general_department_store_12', 'cnt_tr_general_department_store_3', 'cnt_tr_general_department_store_6', 'cnt_tr_house_rental_1', 'cnt_tr_house_rental_12', 'cnt_tr_house_rental_3', 'cnt_tr_house_rental_6', 'cnt_tr_insurance_1', 'cnt_tr_insurance_12', 'cnt_tr_insurance_3', 'cnt_tr_insurance_6', 'cnt_tr_internet_1', 'cnt_tr_internet_12', 'cnt_tr_internet_3', 'cnt_tr_internet_6', 'cnt_tr_jewelry_retail_1', 'cnt_tr_jewelry_retail_12', 'cnt_tr_jewelry_retail_3', 'cnt_tr_jewelry_retail_6', 'cnt_tr_leisure_goods_retail_1', 'cnt_tr_leisure_goods_retail_12', 'cnt_tr_leisure_goods_retail_3', 'cnt_tr_leisure_goods_retail_6', 'cnt_tr_lodging_1', 'cnt_tr_lodging_12', 'cnt_tr_lodging_3', 'cnt_tr_lodging_6', 'cnt_tr_lottery_12m', 'cnt_tr_lottery_1m', 'cnt_tr_lottery_3m', 'cnt_tr_lottery_6m', 'cnt_tr_medical_health_services_12', 'cnt_tr_medical_health_services_3', 'cnt_tr_medical_health_services_6', 'cnt_tr_medical_healthservices_1', 'cnt_tr_medicine_12m', 'cnt_tr_medicine_1m', 'cnt_tr_medicine_3m', 'cnt_tr_medicine_6m', 'cnt_tr_membership_clubs_12', 'cnt_tr_membership_clubs_3', 'cnt_tr_membership_clubs_6', 'cnt_tr_membershipclubs_1', 'cnt_tr_mobile_12m', 'cnt_tr_mobile_1m', 'cnt_tr_mobile_3m', 'cnt_tr_mobile_6m', 'cnt_tr_music_digital_video_store_12', 'cnt_tr_music_digital_video_store_3', 'cnt_tr_music_digital_video_store_6', 'cnt_tr_music_digital_videostore_1', 'cnt_tr_office_supplies_1', 'cnt_tr_office_supplies_12', 'cnt_tr_office_supplies_3', 'cnt_tr_office_supplies_6', 'cnt_tr_oil_12m', 'cnt_tr_oil_1m', 'cnt_tr_oil_3m', 'cnt_tr_oil_6m', 'cnt_tr_pay_1', 'cnt_tr_pay_12', 'cnt_tr_pay_3', 'cnt_tr_pay_6', 'cnt_tr_pay_7d', 'cnt_tr_penalty__12', 'cnt_tr_penalty__3', 'cnt_tr_penalty__6', 'cnt_tr_penalty_1', 'cnt_tr_pet_retail_service_1', 'cnt_tr_pet_retail_service_12', 'cnt_tr_pet_retail_service_3', 'cnt_tr_pet_retail_service_6', 'cnt_tr_pharmacy_drug_stores_1', 'cnt_tr_pharmacy_drug_stores_12', 'cnt_tr_pharmacy_drug_stores_3', 'cnt_tr_pharmacy_drug_stores_6', 'cnt_tr_postal_courier_services_1', 'cnt_tr_postal_courier_services_12', 'cnt_tr_postal_courier_services_3', 'cnt_tr_postal_courier_services_6', 'cnt_tr_publ_util_12m', 'cnt_tr_publ_util_1m', 'cnt_tr_publ_util_3m', 'cnt_tr_publ_util_6m', 'cnt_tr_relax_12m', 'cnt_tr_relax_1m', 'cnt_tr_relax_3m', 'cnt_tr_relax_6m', 'cnt_tr_repair_12m', 'cnt_tr_repair_1m', 'cnt_tr_repair_3m', 'cnt_tr_repair_6m', 'cnt_tr_restaurant_12m', 'cnt_tr_restaurant_1m', 'cnt_tr_restaurant_3m', 'cnt_tr_restaurant_6m', 'cnt_tr_restaurants_1', 'cnt_tr_restaurants_12', 'cnt_tr_restaurants_3', 'cnt_tr_restaurants_6', 'cnt_tr_restaurants_alcohol_1', 'cnt_tr_restaurants_alcohol_12', 'cnt_tr_restaurants_alcohol_3', 'cnt_tr_restaurants_alcohol_6', 'cnt_tr_restaurants_delivery_1', 'cnt_tr_restaurants_delivery_12', 'cnt_tr_restaurants_delivery_3', 'cnt_tr_restaurants_delivery_6', 'cnt_tr_restaurants_fastfood_1', 'cnt_tr_restaurants_fastfood_12', 'cnt_tr_restaurants_fastfood_3', 'cnt_tr_restaurants_fastfood_6', 'cnt_tr_spa_beauty_services_1', 'cnt_tr_spa_beauty_services_12', 'cnt_tr_spa_beauty_services_3', 'cnt_tr_spa_beauty_services_6', 'cnt_tr_sporting_goods_retail_1', 'cnt_tr_sporting_goods_retail_12', 'cnt_tr_sporting_goods_retail_3', 'cnt_tr_sporting_goods_retail_6', 'cnt_tr_sports_recreation_1', 'cnt_tr_sports_recreation_12', 'cnt_tr_sports_recreation_3', 'cnt_tr_sports_recreation_6', 'cnt_tr_supermarkets_1', 'cnt_tr_supermarkets_12', 'cnt_tr_supermarkets_3', 'cnt_tr_supermarkets_6', 'cnt_tr_tax_12m', 'cnt_tr_tax_1m', 'cnt_tr_tax_3m', 'cnt_tr_tax_6m', 'cnt_tr_tax_govt_services_1', 'cnt_tr_tax_govt_services_12', 'cnt_tr_tax_govt_services_3', 'cnt_tr_tax_govt_services_6', 'cnt_tr_telecommunication_1', 'cnt_tr_telecommunication_12', 'cnt_tr_telecommunication_3', 'cnt_tr_telecommunication_6', 'cnt_tr_tobacco_retail_1', 'cnt_tr_tobacco_retail_12', 'cnt_tr_tobacco_retail_3', 'cnt_tr_tobacco_retail_6', 'cnt_tr_top_up_1', 'cnt_tr_top_up_12', 'cnt_tr_top_up_3', 'cnt_tr_top_up_6', 'cnt_tr_toy_retail_1', 'cnt_tr_toy_retail_12', 'cnt_tr_toy_retail_3', 'cnt_tr_toy_retail_6', 'cnt_tr_transportation_other_1', 'cnt_tr_transportation_other_12', 'cnt_tr_transportation_other_3', 'cnt_tr_transportation_other_6', 'cnt_tr_transportation_rzd_1', 'cnt_tr_transportation_rzd_12', 'cnt_tr_transportation_rzd_3', 'cnt_tr_transportation_rzd_6', 'cnt_tr_transportation_taxi_1', 'cnt_tr_transportation_taxi_12', 'cnt_tr_transportation_taxi_3', 'cnt_tr_transportation_taxi_6', 'cnt_tr_travel_agencies_1', 'cnt_tr_travel_agencies_12', 'cnt_tr_travel_agencies_3', 'cnt_tr_travel_agencies_6', 'cnt_tr_trip_12m', 'cnt_tr_trip_1m', 'cnt_tr_trip_3m', 'cnt_tr_trip_6m', 'cnt_tr_unknown_1', 'cnt_tr_unknown_12', 'cnt_tr_unknown_3', 'cnt_tr_unknown_6', 'last_time_pay_tr', 'max_tr_pay_1', 'max_tr_pay_12', 'max_tr_pay_3', 'max_tr_pay_6', 'max_tr_top_up_1', 'max_tr_top_up_12', 'max_tr_top_up_3', 'max_tr_top_up_6', 'sum_tr_abroad_12', 'sum_tr_alkochol_12m', 'sum_tr_alkochol_1m', 'sum_tr_alkochol_3m', 'sum_tr_alkochol_6m', 'sum_tr_all_1', 'sum_tr_all_12', 'sum_tr_all_3', 'sum_tr_all_6', 'sum_tr_all_7d', 'sum_tr_appliance_retail_12', 'sum_tr_appliance_retail_3', 'sum_tr_appliance_retail_6', 'sum_tr_auto_repair_12m', 'sum_tr_auto_repair_3m', 'sum_tr_auto_repair_6m', 'sum_tr_auto_services_12', 'sum_tr_auto_services_3', 'sum_tr_auto_services_6', 'sum_tr_books_store_12', 'sum_tr_books_store_6', 'sum_tr_business_services_12', 'sum_tr_business_services_6', 'sum_tr_buy_12m', 'sum_tr_buy_1m', 'sum_tr_buy_3m', 'sum_tr_buy_6m', 'sum_tr_cash_1', 'sum_tr_cash_12', 'sum_tr_cash_3', 'sum_tr_cash_6', 'sum_tr_cash_in_1', 'sum_tr_cash_in_12', 'sum_tr_cash_in_3', 'sum_tr_cash_in_6', 'sum_tr_cash_services_1', 'sum_tr_cash_services_12', 'sum_tr_cash_services_3', 'sum_tr_cash_services_6', 'sum_tr_construction_services_1', 'sum_tr_construction_services_12', 'sum_tr_construction_services_3', 'sum_tr_construction_services_6', 'sum_tr_entertainment_12', 'sum_tr_entertainment_3', 'sum_tr_entertainment_6', 'sum_tr_fashion_retail_1', 'sum_tr_fashion_retail_12', 'sum_tr_fashion_retail_3', 'sum_tr_fashion_retail_6', 'sum_tr_florist_12', 'sum_tr_florist_3', 'sum_tr_florist_6', 'sum_tr_food_retail_1', 'sum_tr_food_retail_12', 'sum_tr_food_retail_3', 'sum_tr_food_retail_6', 'sum_tr_food_retail_alcohol_1', 'sum_tr_food_retail_alcohol_12', 'sum_tr_food_retail_alcohol_3', 'sum_tr_food_retail_alcohol_6', 'sum_tr_fuel_service_station_1', 'sum_tr_fuel_service_station_12', 'sum_tr_fuel_service_station_3', 'sum_tr_fuel_service_station_6', 'sum_tr_general_department_store_1', 'sum_tr_general_department_store_12', 'sum_tr_general_department_store_3', 'sum_tr_general_department_store_6', 'sum_tr_internet_1', 'sum_tr_internet_12', 'sum_tr_internet_3', 'sum_tr_internet_6', 'sum_tr_leisure_goods_retail_12', 'sum_tr_leisure_goods_retail_3', 'sum_tr_leisure_goods_retail_6', 'sum_tr_lodging_12', 'sum_tr_medical_health_services_12', 'sum_tr_medical_health_services_3', 'sum_tr_medical_health_services_6', 'sum_tr_medicine_12m', 'sum_tr_medicine_1m', 'sum_tr_medicine_3m', 'sum_tr_medicine_6m', 'sum_tr_mobile_12m', 'sum_tr_mobile_3m', 'sum_tr_mobile_6m', 'sum_tr_music_digital_video_store_12', 'sum_tr_office_supplies_12', 'sum_tr_oil_12m', 'sum_tr_oil_1m', 'sum_tr_oil_3m', 'sum_tr_oil_6m', 'sum_tr_pay_1', 'sum_tr_pay_12', 'sum_tr_pay_3', 'sum_tr_pay_6', 'sum_tr_pay_7d', 'sum_tr_pet_retail_service_12', 'sum_tr_pet_retail_service_6', 'sum_tr_pharmacy_drug_stores_1', 'sum_tr_pharmacy_drug_stores_12', 'sum_tr_pharmacy_drug_stores_3', 'sum_tr_pharmacy_drug_stores_6', 'sum_tr_postal_courier_services_12', 'sum_tr_postal_courier_services_6', 'sum_tr_publ_util_12m', 'sum_tr_publ_util_3m', 'sum_tr_publ_util_6m', 'sum_tr_relax_12m', 'sum_tr_relax_3m', 'sum_tr_relax_6m', 'sum_tr_repair_12m', 'sum_tr_repair_1m', 'sum_tr_repair_3m', 'sum_tr_repair_6m', 'sum_tr_restaurant_12m', 'sum_tr_restaurant_1m', 'sum_tr_restaurant_3m', 'sum_tr_restaurant_6m', 'sum_tr_restaurants_1', 'sum_tr_restaurants_12', 'sum_tr_restaurants_3', 'sum_tr_restaurants_6', 'sum_tr_restaurants_fastfood_1', 'sum_tr_restaurants_fastfood_12', 'sum_tr_restaurants_fastfood_3', 'sum_tr_restaurants_fastfood_6', 'sum_tr_spa_beauty_services_12', 'sum_tr_spa_beauty_services_3', 'sum_tr_spa_beauty_services_6', 'sum_tr_sporting_goods_retail_12', 'sum_tr_sports_recreation_12', 'sum_tr_supermarkets_1', 'sum_tr_supermarkets_12', 'sum_tr_supermarkets_3', 'sum_tr_supermarkets_6', 'sum_tr_tax_12m', 'sum_tr_tax_6m', 'sum_tr_tax_govt_services_12', 'sum_tr_tax_govt_services_6', 'sum_tr_telecommunication_1', 'sum_tr_telecommunication_12', 'sum_tr_telecommunication_3', 'sum_tr_telecommunication_6', 'sum_tr_tobacco_retail_12', 'sum_tr_tobacco_retail_6', 'sum_tr_top_up_1', 'sum_tr_top_up_12', 'sum_tr_top_up_3', 'sum_tr_top_up_6', 'sum_tr_toy_retail_12', 'sum_tr_toy_retail_6', 'sum_tr_transportation_other_1', 'sum_tr_transportation_other_12', 'sum_tr_transportation_other_3', 'sum_tr_transportation_other_6', 'sum_tr_transportation_rzd_12', 'sum_tr_transportation_taxi_12', 'sum_tr_travel_agencies_12', 'sum_tr_trip_12m', 'sum_tr_trip_3m', 'sum_tr_trip_6m', 'sum_tr_unknown_1', 'sum_tr_unknown_12', 'sum_tr_unknown_3', 'sum_tr_unknown_6']\n"
     ]
    }
   ],
   "source": [
    "ghj = train_card.columns.values.tolist()\n",
    "print(ghj)"
   ]
  },
  {
   "cell_type": "code",
   "execution_count": 25,
   "id": "9ef09f20",
   "metadata": {},
   "outputs": [
    {
     "data": {
      "text/plain": [
       "(318451, 910)"
      ]
     },
     "execution_count": 25,
     "metadata": {},
     "output_type": "execute_result"
    }
   ],
   "source": [
    "test = pd.merge(test_main, test_card, on = 'user_id', how = 'left')\n",
    "test.shape"
   ]
  },
  {
   "cell_type": "code",
   "execution_count": 36,
   "id": "b723719d",
   "metadata": {},
   "outputs": [
    {
     "data": {
      "text/plain": [
       "(318451, 773)"
      ]
     },
     "execution_count": 36,
     "metadata": {},
     "output_type": "execute_result"
    }
   ],
   "source": [
    "test.drop(columns = drop_col, inplace = True)\n",
    "test.shape"
   ]
  },
  {
   "cell_type": "code",
   "execution_count": 39,
   "id": "3a7a771e-ed7d-4aa9-bf43-cfaaec8a707a",
   "metadata": {},
   "outputs": [],
   "source": [
    "test_pool = Pool(data = test, \n",
    "                 cat_features = categorical_features_indices)"
   ]
  },
  {
   "cell_type": "code",
   "execution_count": 40,
   "id": "684501d8-d52a-4cbf-8e68-fdd1f7f8e246",
   "metadata": {},
   "outputs": [
    {
     "data": {
      "text/plain": [
       "(318451,)"
      ]
     },
     "execution_count": 40,
     "metadata": {},
     "output_type": "execute_result"
    }
   ],
   "source": [
    "test_predict = model.predict(test_pool)\n",
    "test_predict.shape"
   ]
  },
  {
   "cell_type": "markdown",
   "id": "bd893712-bddb-485a-adad-9ec65b0ed3e5",
   "metadata": {},
   "source": [
    "Обратные преобразования (не забываем -1):"
   ]
  },
  {
   "cell_type": "code",
   "execution_count": 41,
   "id": "e19e0142-4df9-445b-9ecd-c6514ba27415",
   "metadata": {},
   "outputs": [],
   "source": [
    "test_full_predict = np.exp(test_predict) - 1"
   ]
  },
  {
   "cell_type": "markdown",
   "id": "f3a99017-1335-4a4c-b883-d7d68c462e28",
   "metadata": {},
   "source": [
    "#### Упаковка сабмита\n",
    "\n",
    "Так как мы торопимся отправить решение, мы снова доверимся воле случая, что все 'user_id' отсортированы за нас 🌚️️️️️️\n",
    "\n",
    "И мы просто перепишем предсказания в исходном сабмит файле."
   ]
  },
  {
   "cell_type": "code",
   "execution_count": 42,
   "id": "d70eb17b-caa6-4c05-9748-d918c3715171",
   "metadata": {},
   "outputs": [],
   "source": [
    "sample['predict'] = test_full_predict"
   ]
  },
  {
   "cell_type": "code",
   "execution_count": 43,
   "id": "9f54656f-1491-4af6-aaa5-697155bf97a5",
   "metadata": {},
   "outputs": [
    {
     "data": {
      "text/html": [
       "<div>\n",
       "<style scoped>\n",
       "    .dataframe tbody tr th:only-of-type {\n",
       "        vertical-align: middle;\n",
       "    }\n",
       "\n",
       "    .dataframe tbody tr th {\n",
       "        vertical-align: top;\n",
       "    }\n",
       "\n",
       "    .dataframe thead th {\n",
       "        text-align: right;\n",
       "    }\n",
       "</style>\n",
       "<table border=\"1\" class=\"dataframe\">\n",
       "  <thead>\n",
       "    <tr style=\"text-align: right;\">\n",
       "      <th></th>\n",
       "      <th>user_id</th>\n",
       "      <th>predict</th>\n",
       "    </tr>\n",
       "  </thead>\n",
       "  <tbody>\n",
       "    <tr>\n",
       "      <th>0</th>\n",
       "      <td>1000008</td>\n",
       "      <td>312525.759671</td>\n",
       "    </tr>\n",
       "    <tr>\n",
       "      <th>1</th>\n",
       "      <td>1000009</td>\n",
       "      <td>-0.029813</td>\n",
       "    </tr>\n",
       "    <tr>\n",
       "      <th>2</th>\n",
       "      <td>1000013</td>\n",
       "      <td>14.334838</td>\n",
       "    </tr>\n",
       "    <tr>\n",
       "      <th>3</th>\n",
       "      <td>1000016</td>\n",
       "      <td>625.563534</td>\n",
       "    </tr>\n",
       "    <tr>\n",
       "      <th>4</th>\n",
       "      <td>1000017</td>\n",
       "      <td>11.710956</td>\n",
       "    </tr>\n",
       "  </tbody>\n",
       "</table>\n",
       "</div>"
      ],
      "text/plain": [
       "   user_id        predict\n",
       "0  1000008  312525.759671\n",
       "1  1000009      -0.029813\n",
       "2  1000013      14.334838\n",
       "3  1000016     625.563534\n",
       "4  1000017      11.710956"
      ]
     },
     "execution_count": 43,
     "metadata": {},
     "output_type": "execute_result"
    }
   ],
   "source": [
    "sample.head(5)"
   ]
  },
  {
   "cell_type": "markdown",
   "id": "f819060c-0fc8-46a0-8304-b58e85f657e8",
   "metadata": {},
   "source": [
    "Финишная прямая — пишем файл:\n"
   ]
  },
  {
   "cell_type": "code",
   "execution_count": 44,
   "id": "0496c64c-87b0-4545-9e34-fb0f99f3354b",
   "metadata": {},
   "outputs": [],
   "source": [
    "sample.to_csv('submit_baseline_catboost.csv', index=False)"
   ]
  },
  {
   "cell_type": "markdown",
   "id": "82e301c7-379c-4ec1-a861-477d2f2b86a6",
   "metadata": {},
   "source": [
    "И... результат на паблике это 4.169190539294088\t\n",
    "\n",
    "- Это лучше чем наивный сабмит с 5.848489205052006\n",
    "- Но это точно не метрика, показываемая в логах при обучении\n",
    "- И этот результат вряд ли пошёл бы в продакшен\n",
    "\n",
    "Можно ли это улучшить? "
   ]
  }
 ],
 "metadata": {
  "kernelspec": {
   "display_name": "Python 3",
   "language": "python",
   "name": "python3"
  },
  "language_info": {
   "codemirror_mode": {
    "name": "ipython",
    "version": 3
   },
   "file_extension": ".py",
   "mimetype": "text/x-python",
   "name": "python",
   "nbconvert_exporter": "python",
   "pygments_lexer": "ipython3",
   "version": "3.10.6"
  }
 },
 "nbformat": 4,
 "nbformat_minor": 5
}
